{
  "nbformat": 4,
  "nbformat_minor": 0,
  "metadata": {
    "colab": {
      "provenance": [],
      "authorship_tag": "ABX9TyM504ZzXCygXTkYphVRWFtd",
      "include_colab_link": true
    },
    "kernelspec": {
      "name": "python3",
      "display_name": "Python 3"
    },
    "language_info": {
      "name": "python"
    }
  },
  "cells": [
    {
      "cell_type": "markdown",
      "metadata": {
        "id": "view-in-github",
        "colab_type": "text"
      },
      "source": [
        "<a href=\"https://colab.research.google.com/github/comp-lin-alg/CLA_colab/blob/main/GMRES.ipynb\" target=\"_parent\"><img src=\"https://colab.research.google.com/assets/colab-badge.svg\" alt=\"Open In Colab\"/></a>"
      ]
    },
    {
      "cell_type": "code",
      "source": [
        "from numpy import *; import scipy.linalg as sl; import scipy.sparse.linalg as sspl"
      ],
      "metadata": {
        "id": "mu2vxtCN5qGj"
      },
      "execution_count": 1,
      "outputs": []
    },
    {
      "cell_type": "code",
      "execution_count": 2,
      "metadata": {
        "id": "ZgYdGCrF4x9E"
      },
      "outputs": [],
      "source": [
        "n = 50; s = 2.1"
      ]
    },
    {
      "cell_type": "code",
      "source": [
        "A0 = diag(s*ones(n)) - diag(ones(n-1), k=-1) - diag(ones(n-1), k =1); A0"
      ],
      "metadata": {
        "colab": {
          "base_uri": "https://localhost:8080/"
        },
        "id": "gyTRMeZh5iAd",
        "outputId": "274d06d3-02f0-422d-dad8-7c0a4c4f3bac"
      },
      "execution_count": 3,
      "outputs": [
        {
          "output_type": "execute_result",
          "data": {
            "text/plain": [
              "array([[ 2.1, -1. ,  0. , ...,  0. ,  0. ,  0. ],\n",
              "       [-1. ,  2.1, -1. , ...,  0. ,  0. ,  0. ],\n",
              "       [ 0. , -1. ,  2.1, ...,  0. ,  0. ,  0. ],\n",
              "       ...,\n",
              "       [ 0. ,  0. ,  0. , ...,  2.1, -1. ,  0. ],\n",
              "       [ 0. ,  0. ,  0. , ..., -1. ,  2.1, -1. ],\n",
              "       [ 0. ,  0. ,  0. , ...,  0. , -1. ,  2.1]])"
            ]
          },
          "metadata": {},
          "execution_count": 3
        }
      ]
    },
    {
      "cell_type": "code",
      "source": [
        "A = A0.copy(); A[0,-1] = -1; A[-1, 0] = -1; A"
      ],
      "metadata": {
        "colab": {
          "base_uri": "https://localhost:8080/"
        },
        "id": "tWE3-Bf65n85",
        "outputId": "34491b68-768e-49b7-a2ff-f5461d3d653a"
      },
      "execution_count": 4,
      "outputs": [
        {
          "output_type": "execute_result",
          "data": {
            "text/plain": [
              "array([[ 2.1, -1. ,  0. , ...,  0. ,  0. , -1. ],\n",
              "       [-1. ,  2.1, -1. , ...,  0. ,  0. ,  0. ],\n",
              "       [ 0. , -1. ,  2.1, ...,  0. ,  0. ,  0. ],\n",
              "       ...,\n",
              "       [ 0. ,  0. ,  0. , ...,  2.1, -1. ,  0. ],\n",
              "       [ 0. ,  0. ,  0. , ..., -1. ,  2.1, -1. ],\n",
              "       [-1. ,  0. ,  0. , ...,  0. , -1. ,  2.1]])"
            ]
          },
          "metadata": {},
          "execution_count": 4
        }
      ]
    },
    {
      "cell_type": "code",
      "source": [
        "P, L, U = sl.lu(A0); P"
      ],
      "metadata": {
        "colab": {
          "base_uri": "https://localhost:8080/"
        },
        "id": "Petvm_R_6Hd5",
        "outputId": "61d8c386-7234-43c9-d142-16dc7be483b8"
      },
      "execution_count": 5,
      "outputs": [
        {
          "output_type": "execute_result",
          "data": {
            "text/plain": [
              "array([[1., 0., 0., ..., 0., 0., 0.],\n",
              "       [0., 1., 0., ..., 0., 0., 0.],\n",
              "       [0., 0., 1., ..., 0., 0., 0.],\n",
              "       ...,\n",
              "       [0., 0., 0., ..., 1., 0., 0.],\n",
              "       [0., 0., 0., ..., 0., 1., 0.],\n",
              "       [0., 0., 0., ..., 0., 0., 1.]])"
            ]
          },
          "metadata": {},
          "execution_count": 5
        }
      ]
    },
    {
      "cell_type": "code",
      "source": [
        "L"
      ],
      "metadata": {
        "colab": {
          "base_uri": "https://localhost:8080/"
        },
        "id": "VJ4mjOnx6w3v",
        "outputId": "a7704345-c699-4f95-fee2-3ef3adce586f"
      },
      "execution_count": 6,
      "outputs": [
        {
          "output_type": "execute_result",
          "data": {
            "text/plain": [
              "array([[ 1.        ,  0.        ,  0.        , ...,  0.        ,\n",
              "         0.        ,  0.        ],\n",
              "       [-0.47619048,  1.        ,  0.        , ...,  0.        ,\n",
              "         0.        ,  0.        ],\n",
              "       [ 0.        , -0.61583578,  1.        , ...,  0.        ,\n",
              "         0.        ,  0.        ],\n",
              "       ...,\n",
              "       [ 0.        ,  0.        ,  0.        , ...,  1.        ,\n",
              "         0.        ,  0.        ],\n",
              "       [ 0.        ,  0.        ,  0.        , ..., -0.72984379,\n",
              "         1.        ,  0.        ],\n",
              "       [ 0.        ,  0.        ,  0.        , ...,  0.        ,\n",
              "        -0.72984379,  1.        ]])"
            ]
          },
          "metadata": {},
          "execution_count": 6
        }
      ]
    },
    {
      "cell_type": "code",
      "source": [
        "U"
      ],
      "metadata": {
        "colab": {
          "base_uri": "https://localhost:8080/"
        },
        "id": "YYaZOymi6_7W",
        "outputId": "bf3e2fc5-7616-4caf-8581-807b9f8f5ba0"
      },
      "execution_count": 7,
      "outputs": [
        {
          "output_type": "execute_result",
          "data": {
            "text/plain": [
              "array([[ 2.1       , -1.        ,  0.        , ...,  0.        ,\n",
              "         0.        ,  0.        ],\n",
              "       [ 0.        ,  1.62380952, -1.        , ...,  0.        ,\n",
              "         0.        ,  0.        ],\n",
              "       [ 0.        ,  0.        ,  1.48416422, ...,  0.        ,\n",
              "         0.        ,  0.        ],\n",
              "       ...,\n",
              "       [ 0.        ,  0.        ,  0.        , ...,  1.37015621,\n",
              "        -1.        ,  0.        ],\n",
              "       [ 0.        ,  0.        ,  0.        , ...,  0.        ,\n",
              "         1.37015621, -1.        ],\n",
              "       [ 0.        ,  0.        ,  0.        , ...,  0.        ,\n",
              "         0.        ,  1.37015621]])"
            ]
          },
          "metadata": {},
          "execution_count": 7
        }
      ]
    },
    {
      "cell_type": "code",
      "source": [
        "def matvec(x):\n",
        "  return s*x - roll(x,1) - roll(x,-1)"
      ],
      "metadata": {
        "id": "LoBo9f-17PQX"
      },
      "execution_count": 8,
      "outputs": []
    },
    {
      "cell_type": "code",
      "source": [
        "Amat = sspl.LinearOperator((n,n), matvec=matvec)"
      ],
      "metadata": {
        "id": "9wuw7tZh8DjP"
      },
      "execution_count": 9,
      "outputs": []
    },
    {
      "cell_type": "code",
      "source": [
        "a = random.randn(n); a"
      ],
      "metadata": {
        "colab": {
          "base_uri": "https://localhost:8080/"
        },
        "id": "T0fPu6Vz7tKB",
        "outputId": "63a470cf-bdb3-4b28-b51a-47bd91dafdaf"
      },
      "execution_count": 10,
      "outputs": [
        {
          "output_type": "execute_result",
          "data": {
            "text/plain": [
              "array([-1.92896389e+00,  1.08560043e-03,  8.22148647e-01,  1.02171986e-01,\n",
              "        4.16604152e-01, -5.64515836e-01,  1.95864618e-01, -7.77154338e-01,\n",
              "       -1.92631812e+00, -7.08847066e-01, -1.52833223e-01,  5.05162264e-01,\n",
              "        3.13045070e-01,  1.06348857e+00,  2.09588204e-01, -8.18623822e-02,\n",
              "       -3.72031635e-01, -1.77956428e+00,  2.47880385e-01,  7.54942459e-01,\n",
              "       -6.30640696e-03, -5.68113121e-01,  2.69374052e-01,  1.16152817e+00,\n",
              "        5.05078338e-01, -8.71541927e-01,  1.13833290e-01,  5.83022373e-01,\n",
              "        5.95434916e-01,  8.03880916e-01, -4.40477524e-01,  9.25444365e-01,\n",
              "       -6.68120686e-01, -6.51735993e-01, -9.30701062e-01,  1.30710572e-01,\n",
              "        7.40659996e-01,  1.55629190e+00, -4.71821550e-02,  1.58658399e-01,\n",
              "        4.19263038e-02, -1.01270905e-01,  3.72883532e-01, -9.02857671e-01,\n",
              "        8.17871060e-01,  2.14399296e-01, -1.38805818e-01,  9.91450196e-02,\n",
              "       -1.34417128e+00,  2.88465457e-03])"
            ]
          },
          "metadata": {},
          "execution_count": 10
        }
      ]
    },
    {
      "cell_type": "code",
      "source": [
        "linalg.norm(A@a - Amat@a)"
      ],
      "metadata": {
        "colab": {
          "base_uri": "https://localhost:8080/"
        },
        "id": "IG1Ko-Cm76xt",
        "outputId": "74bad54f-baa0-46b9-bce3-9d0d8d2eb34e"
      },
      "execution_count": 11,
      "outputs": [
        {
          "output_type": "execute_result",
          "data": {
            "text/plain": [
              "7.957674067932935e-16"
            ]
          },
          "metadata": {},
          "execution_count": 11
        }
      ]
    },
    {
      "cell_type": "code",
      "source": [
        "def Pinv(x):\n",
        "  y = sl.solve_triangular(L, x, lower=True)\n",
        "  return sl.solve_triangular(U, y)"
      ],
      "metadata": {
        "id": "dhxTfH-F79RF"
      },
      "execution_count": 12,
      "outputs": []
    },
    {
      "cell_type": "code",
      "source": [
        "M = sspl.LinearOperator((n,n), matvec=Pinv)"
      ],
      "metadata": {
        "id": "Q9Tbpqhi__mW"
      },
      "execution_count": 13,
      "outputs": []
    },
    {
      "cell_type": "code",
      "source": [
        "b = A0@a"
      ],
      "metadata": {
        "id": "va3xD_Q47-9k"
      },
      "execution_count": 14,
      "outputs": []
    },
    {
      "cell_type": "code",
      "source": [
        "xs = M@b; linalg.norm(xs-a)"
      ],
      "metadata": {
        "colab": {
          "base_uri": "https://localhost:8080/"
        },
        "id": "oVNxcWnq9UJr",
        "outputId": "9fb67f1d-9bc0-4eb0-b529-5fd9357f08a9"
      },
      "execution_count": 15,
      "outputs": [
        {
          "output_type": "execute_result",
          "data": {
            "text/plain": [
              "2.139508702626223e-15"
            ]
          },
          "metadata": {},
          "execution_count": 15
        }
      ]
    },
    {
      "cell_type": "code",
      "source": [
        "M@Amat@a"
      ],
      "metadata": {
        "colab": {
          "base_uri": "https://localhost:8080/"
        },
        "id": "21UtpC8zAH9F",
        "outputId": "5d4774a1-149e-448e-a6d0-9856517cb175"
      },
      "execution_count": 16,
      "outputs": [
        {
          "output_type": "execute_result",
          "data": {
            "text/plain": [
              "array([-1.93106910e+00, -4.50699590e-04,  8.21027634e-01,  1.01354158e-01,\n",
              "        4.16007725e-01, -5.64950503e-01,  1.95548244e-01, -7.77384056e-01,\n",
              "       -1.92648415e+00, -7.08966019e-01, -1.52916992e-01,  5.05105303e-01,\n",
              "        3.13009221e-01,  1.06347025e+00,  2.09585578e-01, -8.18495762e-02,\n",
              "       -3.72002116e-01, -1.77951509e+00,  2.47954152e-01,  7.55048187e-01,\n",
              "       -6.15814677e-03, -5.67907502e-01,  2.69657592e-01,  1.16191798e+00,\n",
              "        5.05613409e-01, -8.70808093e-01,  1.14839270e-01,  5.84401098e-01,\n",
              "        5.97324258e-01,  8.06469810e-01, -4.36930190e-01,  9.30304873e-01,\n",
              "       -6.61460953e-01, -6.42611062e-01, -9.18198440e-01,  1.47841148e-01,\n",
              "        7.64131583e-01,  1.58845165e+00, -3.11825253e-03,  2.19032838e-01,\n",
              "        1.24648722e-01,  1.20717346e-02,  5.28180656e-01, -6.90076349e-01,\n",
              "        1.10941471e+00,  6.13859643e-01,  4.08517259e-01,  8.49063135e-01,\n",
              "       -3.16666313e-01,  1.41072696e+00])"
            ]
          },
          "metadata": {},
          "execution_count": 16
        }
      ]
    },
    {
      "cell_type": "code",
      "source": [
        "def call(s):\n",
        "  print(s)"
      ],
      "metadata": {
        "id": "AF3MxhOfA7YW"
      },
      "execution_count": 17,
      "outputs": []
    },
    {
      "cell_type": "code",
      "source": [
        "x, info = sspl.gmres(Amat, a, tol=1.0e-10, callback=call, callback_type='pr_norm')"
      ],
      "metadata": {
        "colab": {
          "base_uri": "https://localhost:8080/"
        },
        "id": "Sro3jT3fAOjt",
        "outputId": "353fd797-5ae7-46a2-9271-0c088762b671"
      },
      "execution_count": 18,
      "outputs": [
        {
          "output_type": "stream",
          "name": "stdout",
          "text": [
            "0.6085048204658695\n",
            "0.38774546818457395\n",
            "0.24267250669408708\n",
            "0.1925782870219188\n",
            "0.15912077716336587\n",
            "0.11760402889082346\n",
            "0.08790405955568434\n",
            "0.06659690303141763\n",
            "0.04937984294885966\n",
            "0.02912308629609039\n",
            "0.01703558170611859\n",
            "0.011829537852091938\n",
            "0.008530276825222774\n",
            "0.005798812004809786\n",
            "0.003985048670916809\n",
            "0.0027712069871518447\n",
            "0.0020844539386390805\n",
            "0.0013057433392828007\n",
            "0.0009483965500827302\n",
            "0.0007558550296883783\n",
            "0.0006635414472697927\n",
            "0.0005213049703809643\n",
            "0.0003694987884314716\n",
            "0.0002745317692079269\n",
            "0.00021540949902138596\n",
            "0.00016899027338026403\n",
            "0.0001237297788463431\n",
            "9.055436621913258e-05\n",
            "6.298213274872885e-05\n",
            "4.7136594938891816e-05\n",
            "2.8835142236257065e-05\n",
            "2.179234502472378e-05\n",
            "1.5664250487308116e-05\n",
            "1.2208220270641371e-05\n",
            "7.6213640336175665e-06\n",
            "4.897391848944561e-06\n",
            "3.2699193789341855e-06\n",
            "2.244619107432298e-06\n",
            "1.3803144215096524e-06\n",
            "6.243896132650753e-07\n",
            "3.645099147802251e-07\n",
            "2.8085955351726874e-07\n",
            "2.1841602574795574e-07\n",
            "1.7730415869744987e-07\n",
            "1.4224385595529142e-07\n",
            "1.021466967326046e-07\n",
            "7.07858331230208e-08\n",
            "4.698259247029009e-08\n",
            "3.252713116848078e-08\n",
            "1.8255036745336228e-08\n",
            "1.129470977696609e-08\n",
            "6.9261117566164295e-09\n",
            "4.829132630187462e-09\n",
            "3.5059544081856644e-09\n",
            "2.4120019534352477e-09\n",
            "1.626424705291512e-09\n",
            "1.254711067505808e-09\n",
            "8.70968172282558e-10\n",
            "6.642155403271469e-10\n",
            "5.290435054248184e-10\n",
            "4.6401816867217213e-10\n",
            "3.857375017605546e-10\n",
            "2.905890765157669e-10\n",
            "2.1093563554835175e-10\n",
            "1.5664080418030535e-10\n",
            "1.2338327927836032e-10\n",
            "9.150447443350758e-11\n"
          ]
        }
      ]
    },
    {
      "cell_type": "code",
      "source": [
        "x, info = sspl.gmres(Amat, a, tol=1.0e-10, callback=call, M=M, callback_type='pr_norm')"
      ],
      "metadata": {
        "colab": {
          "base_uri": "https://localhost:8080/"
        },
        "id": "fnBjYp5KAhzM",
        "outputId": "4fd20d8b-b478-48cb-d63a-e671389da9be"
      },
      "execution_count": 19,
      "outputs": [
        {
          "output_type": "stream",
          "name": "stdout",
          "text": [
            "0.2699794754351277\n",
            "0.19392535510122888\n",
            "8.78204215092395e-16\n"
          ]
        }
      ]
    },
    {
      "cell_type": "code",
      "source": [
        "e, _ = linalg.eig(A); e"
      ],
      "metadata": {
        "colab": {
          "base_uri": "https://localhost:8080/"
        },
        "id": "YgRVYek6DQKo",
        "outputId": "23ab5505-7a35-4c39-cdca-fc647ab13d0a"
      },
      "execution_count": 20,
      "outputs": [
        {
          "output_type": "execute_result",
          "data": {
            "text/plain": [
              "array([0.1       , 0.1157706 , 0.16283368, 0.24044703, 0.34738664,\n",
              "       0.48196601, 0.64206275, 0.82515202, 1.02834641, 1.24844142,\n",
              "       1.48196601, 1.72523737, 1.97441896, 2.22558104, 2.47476263,\n",
              "       2.71803399, 2.95155858, 3.17165359, 4.1       , 4.0842294 ,\n",
              "       4.03716632, 3.95955297, 3.85261336, 3.71803399, 3.37484798,\n",
              "       3.55793725, 4.0842294 , 4.03716632, 3.95955297, 3.85261336,\n",
              "       3.71803399, 3.55793725, 3.37484798, 3.17165359, 2.95155858,\n",
              "       2.71803399, 2.47476263, 2.22558104, 0.1157706 , 0.16283368,\n",
              "       0.24044703, 0.34738664, 0.48196601, 0.64206275, 0.82515202,\n",
              "       1.02834641, 1.24844142, 1.97441896, 1.72523737, 1.48196601])"
            ]
          },
          "metadata": {},
          "execution_count": 20
        }
      ]
    },
    {
      "cell_type": "code",
      "source": [],
      "metadata": {
        "id": "HTlSTNw4DY0v"
      },
      "execution_count": 20,
      "outputs": []
    }
  ]
}