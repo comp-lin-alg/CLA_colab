{
  "cells": [
    {
      "cell_type": "code",
      "execution_count": 1,
      "metadata": {
        "id": "ILWCnj_bV9Cd"
      },
      "outputs": [],
      "source": [
        "from numpy import *"
      ]
    },
    {
      "cell_type": "code",
      "source": [
        "from IPython.core.interactiveshell import InteractiveShell\n",
        "InteractiveShell.ast_node_interactivity = \"all\""
      ],
      "metadata": {
        "id": "LSpJuvrWWy71"
      },
      "execution_count": 2,
      "outputs": []
    },
    {
      "cell_type": "code",
      "source": [
        "A = random.randn(5,3)"
      ],
      "metadata": {
        "id": "xpSjNeTHWtmv"
      },
      "execution_count": 3,
      "outputs": []
    },
    {
      "cell_type": "code",
      "source": [
        "A"
      ],
      "metadata": {
        "id": "MEZJcYSpW8Fd",
        "outputId": "e9c56c04-786b-498b-8dd2-fbd4378943c4",
        "colab": {
          "base_uri": "https://localhost:8080/"
        }
      },
      "execution_count": 4,
      "outputs": [
        {
          "output_type": "execute_result",
          "data": {
            "text/plain": [
              "array([[-0.12653895,  1.23013544,  0.68511823],\n",
              "       [-0.26626038,  0.30266063, -0.66491454],\n",
              "       [-0.88539249,  0.82094151, -0.15883443],\n",
              "       [-0.73472224,  0.38996509, -0.93263001],\n",
              "       [ 0.25386932,  1.48683602,  0.57940308]])"
            ]
          },
          "metadata": {},
          "execution_count": 4
        }
      ]
    },
    {
      "cell_type": "code",
      "source": [
        "Q, R = linalg.qr(A)"
      ],
      "metadata": {
        "id": "lLhxDNeEXFR0"
      },
      "execution_count": 5,
      "outputs": []
    },
    {
      "cell_type": "code",
      "source": [
        "Q"
      ],
      "metadata": {
        "id": "1PJKbXc3XKQ9",
        "outputId": "6c54116c-1fae-4bfd-8927-a54de5611e91",
        "colab": {
          "base_uri": "https://localhost:8080/"
        }
      },
      "execution_count": 6,
      "outputs": [
        {
          "output_type": "execute_result",
          "data": {
            "text/plain": [
              "array([[-0.10418724,  0.56877966, -0.37299957],\n",
              "       [-0.21922842,  0.07150018,  0.62285594],\n",
              "       [-0.72899767,  0.14643825, -0.42412232],\n",
              "       [-0.60494166, -0.02187995,  0.45235909],\n",
              "       [ 0.2090261 ,  0.80588741,  0.29734375]])"
            ]
          },
          "metadata": {},
          "execution_count": 6
        }
      ]
    },
    {
      "cell_type": "code",
      "source": [
        "R"
      ],
      "metadata": {
        "id": "ZjlrzWeAXKt7",
        "outputId": "306aee72-e8ad-4f69-c279-866fd1768b26",
        "colab": {
          "base_uri": "https://localhost:8080/"
        }
      },
      "execution_count": 7,
      "outputs": [
        {
          "output_type": "execute_result",
          "data": {
            "text/plain": [
              "array([[ 1.21453405, -0.71809927,  0.87547462],\n",
              "       [ 0.        ,  2.03122357,  0.80621992],\n",
              "       [ 0.        ,  0.        , -0.85193133]])"
            ]
          },
          "metadata": {},
          "execution_count": 7
        }
      ]
    },
    {
      "cell_type": "code",
      "source": [
        "Q2, R2 = linalg.qr(A, mode=\"complete\")"
      ],
      "metadata": {
        "id": "78A82gWRXLQL"
      },
      "execution_count": 8,
      "outputs": []
    },
    {
      "cell_type": "code",
      "source": [
        "Q2"
      ],
      "metadata": {
        "id": "TlYNRYpbYG1i",
        "outputId": "13fab77f-3841-475b-86e0-229c894c8bb3",
        "colab": {
          "base_uri": "https://localhost:8080/"
        }
      },
      "execution_count": 9,
      "outputs": [
        {
          "output_type": "execute_result",
          "data": {
            "text/plain": [
              "array([[-0.10418724,  0.56877966, -0.37299957, -0.41209205, -0.59723209],\n",
              "       [-0.21922842,  0.07150018,  0.62285594, -0.71689307,  0.21199395],\n",
              "       [-0.72899767,  0.14643825, -0.42412232,  0.02177937,  0.51649216],\n",
              "       [-0.60494166, -0.02187995,  0.45235909,  0.42966394, -0.49429446],\n",
              "       [ 0.2090261 ,  0.80588741,  0.29734375,  0.36215885,  0.29543397]])"
            ]
          },
          "metadata": {},
          "execution_count": 9
        }
      ]
    },
    {
      "cell_type": "code",
      "source": [
        "R2"
      ],
      "metadata": {
        "id": "jVq4p6WdYIK6",
        "outputId": "a899f89f-1862-4383-b70b-ecca2f726395",
        "colab": {
          "base_uri": "https://localhost:8080/"
        }
      },
      "execution_count": 10,
      "outputs": [
        {
          "output_type": "execute_result",
          "data": {
            "text/plain": [
              "array([[ 1.21453405, -0.71809927,  0.87547462],\n",
              "       [ 0.        ,  2.03122357,  0.80621992],\n",
              "       [ 0.        ,  0.        , -0.85193133],\n",
              "       [ 0.        ,  0.        ,  0.        ],\n",
              "       [ 0.        ,  0.        ,  0.        ]])"
            ]
          },
          "metadata": {},
          "execution_count": 10
        }
      ]
    },
    {
      "cell_type": "markdown",
      "source": [
        "Note that to apply Q (or Q2), we just need the vs (see notes).\n",
        "\n",
        "Now to apply QR to least squares problems."
      ],
      "metadata": {
        "id": "03FNloAsYjMb"
      }
    },
    {
      "cell_type": "code",
      "source": [
        "x = random.randn(3)"
      ],
      "metadata": {
        "id": "4Yx6QAA5Yuuq"
      },
      "execution_count": 11,
      "outputs": []
    },
    {
      "cell_type": "code",
      "source": [
        "x"
      ],
      "metadata": {
        "id": "qve_o6x3ZQ_I",
        "outputId": "08b1c959-f93a-44ea-8319-f2a6feeb2577",
        "colab": {
          "base_uri": "https://localhost:8080/"
        }
      },
      "execution_count": 12,
      "outputs": [
        {
          "output_type": "execute_result",
          "data": {
            "text/plain": [
              "array([-0.20631076, -0.04614831,  0.05264398])"
            ]
          },
          "metadata": {},
          "execution_count": 12
        }
      ]
    },
    {
      "cell_type": "code",
      "source": [
        "b = A@x"
      ],
      "metadata": {
        "id": "FTSgxgw-ZRao"
      },
      "execution_count": 13,
      "outputs": []
    },
    {
      "cell_type": "code",
      "source": [
        "b"
      ],
      "metadata": {
        "id": "clplkBcyZTWg",
        "outputId": "97365287-9325-4b3a-87fc-358beca90a0f",
        "colab": {
          "base_uri": "https://localhost:8080/"
        }
      },
      "execution_count": 14,
      "outputs": [
        {
          "output_type": "execute_result",
          "data": {
            "text/plain": [
              "array([ 0.00540503,  0.00596136,  0.13641926,  0.08448752, -0.09048885])"
            ]
          },
          "metadata": {},
          "execution_count": 14
        }
      ]
    },
    {
      "cell_type": "code",
      "source": [
        "linalg.norm(A@x-b)"
      ],
      "metadata": {
        "id": "1cRK-MLwZlYn",
        "outputId": "28ab0cd1-43d2-4a68-b41e-b7754009ac00",
        "colab": {
          "base_uri": "https://localhost:8080/"
        }
      },
      "execution_count": 15,
      "outputs": [
        {
          "output_type": "execute_result",
          "data": {
            "text/plain": [
              "0.0"
            ]
          },
          "metadata": {},
          "execution_count": 15
        }
      ]
    },
    {
      "cell_type": "code",
      "source": [
        "linalg.norm(R@x-Q.T@b)"
      ],
      "metadata": {
        "id": "VCqGll9gZoeo",
        "outputId": "24fad04e-d468-4610-c6b5-bd927ab835df",
        "colab": {
          "base_uri": "https://localhost:8080/"
        }
      },
      "execution_count": 16,
      "outputs": [
        {
          "output_type": "execute_result",
          "data": {
            "text/plain": [
              "1.0500451862475693e-16"
            ]
          },
          "metadata": {},
          "execution_count": 16
        }
      ]
    },
    {
      "cell_type": "code",
      "source": [
        "b += 0.1*random.randn(b.size)"
      ],
      "metadata": {
        "id": "B_FYRMNjaD-y"
      },
      "execution_count": 17,
      "outputs": []
    },
    {
      "cell_type": "code",
      "source": [
        "b"
      ],
      "metadata": {
        "id": "kEqBiqiHaE0_",
        "outputId": "99b10bd1-c153-476d-b5a0-b86b1612daf5",
        "colab": {
          "base_uri": "https://localhost:8080/"
        }
      },
      "execution_count": 18,
      "outputs": [
        {
          "output_type": "execute_result",
          "data": {
            "text/plain": [
              "array([ 0.06324988,  0.02167215,  0.19721729,  0.06485657, -0.36716841])"
            ]
          },
          "metadata": {},
          "execution_count": 18
        }
      ]
    },
    {
      "cell_type": "code",
      "source": [
        "x = linalg.solve(R, Q.T@b)"
      ],
      "metadata": {
        "id": "L98ZtL2FahLm"
      },
      "execution_count": 19,
      "outputs": []
    },
    {
      "cell_type": "code",
      "source": [
        "linalg.norm(A@x-b)"
      ],
      "metadata": {
        "id": "cWM74Rizar3O",
        "outputId": "ee59b0ac-350e-4a30-f960-a9c01e7dd5f5",
        "colab": {
          "base_uri": "https://localhost:8080/"
        }
      },
      "execution_count": 20,
      "outputs": [
        {
          "output_type": "execute_result",
          "data": {
            "text/plain": [
              "0.15951199127872687"
            ]
          },
          "metadata": {},
          "execution_count": 20
        }
      ]
    },
    {
      "cell_type": "code",
      "source": [
        "x"
      ],
      "metadata": {
        "id": "TvPaIZ2watpe",
        "outputId": "4371089d-e191-427c-b814-2d554bf877ea",
        "colab": {
          "base_uri": "https://localhost:8080/"
        }
      },
      "execution_count": 21,
      "outputs": [
        {
          "output_type": "execute_result",
          "data": {
            "text/plain": [
              "array([-0.48510019, -0.19454861,  0.20374245])"
            ]
          },
          "metadata": {},
          "execution_count": 21
        }
      ]
    },
    {
      "cell_type": "code",
      "source": [
        "linalg.norm(R@x-Q.T@b)"
      ],
      "metadata": {
        "id": "9hKEk2smawzn",
        "outputId": "85fdb779-5e66-4925-ea57-db12ac340998",
        "colab": {
          "base_uri": "https://localhost:8080/"
        }
      },
      "execution_count": 22,
      "outputs": [
        {
          "output_type": "execute_result",
          "data": {
            "text/plain": [
              "0.0"
            ]
          },
          "metadata": {},
          "execution_count": 22
        }
      ]
    },
    {
      "cell_type": "code",
      "source": [
        "bstar = Q@Q.T@b\n",
        "linalg.norm(A@x-bstar)"
      ],
      "metadata": {
        "id": "FWksd5sxa4QF",
        "outputId": "2c0aa761-92f2-4917-c9b8-2ce5d345e844",
        "colab": {
          "base_uri": "https://localhost:8080/"
        }
      },
      "execution_count": 34,
      "outputs": [
        {
          "output_type": "execute_result",
          "data": {
            "text/plain": [
              "1.8670653977139892e-16"
            ]
          },
          "metadata": {},
          "execution_count": 34
        }
      ]
    },
    {
      "cell_type": "code",
      "source": [
        "A1 = hstack((A, b.reshape((5,1))))"
      ],
      "metadata": {
        "id": "_koCaVkMbFRd"
      },
      "execution_count": 24,
      "outputs": []
    },
    {
      "cell_type": "code",
      "source": [
        "A1"
      ],
      "metadata": {
        "id": "24H-5Il2bz-m",
        "outputId": "a72e22f3-92b6-471b-83cf-6e5f1570cebb",
        "colab": {
          "base_uri": "https://localhost:8080/"
        }
      },
      "execution_count": 25,
      "outputs": [
        {
          "output_type": "execute_result",
          "data": {
            "text/plain": [
              "array([[-0.12653895,  1.23013544,  0.68511823,  0.06324988],\n",
              "       [-0.26626038,  0.30266063, -0.66491454,  0.02167215],\n",
              "       [-0.88539249,  0.82094151, -0.15883443,  0.19721729],\n",
              "       [-0.73472224,  0.38996509, -0.93263001,  0.06485657],\n",
              "       [ 0.25386932,  1.48683602,  0.57940308, -0.36716841]])"
            ]
          },
          "metadata": {},
          "execution_count": 25
        }
      ]
    },
    {
      "cell_type": "code",
      "source": [
        "Q3, R3 = linalg.qr(A1)"
      ],
      "metadata": {
        "id": "RUcP4Wm0ceKL"
      },
      "execution_count": 30,
      "outputs": []
    },
    {
      "cell_type": "code",
      "source": [
        "R3"
      ],
      "metadata": {
        "id": "Jt1vKj80clwL",
        "outputId": "cead1b22-c1fb-4a90-f92f-50014ddaca39",
        "colab": {
          "base_uri": "https://localhost:8080/"
        }
      },
      "execution_count": 31,
      "outputs": [
        {
          "output_type": "execute_result",
          "data": {
            "text/plain": [
              "array([[ 1.21453405, -0.71809927,  0.87547462, -0.27109415],\n",
              "       [ 0.        ,  2.03122357,  0.80621992, -0.2309105 ],\n",
              "       [ 0.        ,  0.        , -0.85193133, -0.17357457],\n",
              "       [ 0.        ,  0.        ,  0.        ,  0.15951199]])"
            ]
          },
          "metadata": {},
          "execution_count": 31
        }
      ]
    },
    {
      "cell_type": "code",
      "source": [
        "Q.T@b"
      ],
      "metadata": {
        "id": "aMvqi8gtcowj",
        "outputId": "3ff03dae-b8f6-4c29-af33-ac6235332def",
        "colab": {
          "base_uri": "https://localhost:8080/"
        }
      },
      "execution_count": 32,
      "outputs": [
        {
          "output_type": "execute_result",
          "data": {
            "text/plain": [
              "array([-0.27109415, -0.2309105 , -0.17357457])"
            ]
          },
          "metadata": {},
          "execution_count": 32
        }
      ]
    },
    {
      "cell_type": "code",
      "source": [],
      "metadata": {
        "id": "sqtdmSuGcvvb"
      },
      "execution_count": 28,
      "outputs": []
    }
  ],
  "metadata": {
    "kernelspec": {
      "display_name": "Python 3",
      "language": "python",
      "name": "python3"
    },
    "language_info": {
      "codemirror_mode": {
        "name": "ipython",
        "version": 3
      },
      "file_extension": ".py",
      "mimetype": "text/x-python",
      "name": "python",
      "nbconvert_exporter": "python",
      "pygments_lexer": "ipython3",
      "version": "3.6.4"
    },
    "colab": {
      "provenance": []
    }
  },
  "nbformat": 4,
  "nbformat_minor": 0
}