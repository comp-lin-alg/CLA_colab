{
  "nbformat": 4,
  "nbformat_minor": 0,
  "metadata": {
    "colab": {
      "provenance": [],
      "authorship_tag": "ABX9TyMNBwZDGacbFhmOBSVEw/y8",
      "include_colab_link": true
    },
    "kernelspec": {
      "name": "python3",
      "display_name": "Python 3"
    },
    "language_info": {
      "name": "python"
    }
  },
  "cells": [
    {
      "cell_type": "markdown",
      "metadata": {
        "id": "view-in-github",
        "colab_type": "text"
      },
      "source": [
        "<a href=\"https://colab.research.google.com/github/comp-lin-alg/CLA_colab/blob/main/stability_experiments.ipynb\" target=\"_parent\"><img src=\"https://colab.research.google.com/assets/colab-badge.svg\" alt=\"Open In Colab\"/></a>"
      ]
    },
    {
      "cell_type": "code",
      "execution_count": 1,
      "metadata": {
        "id": "scqLyiXkQmXk"
      },
      "outputs": [],
      "source": [
        "from numpy import *"
      ]
    },
    {
      "cell_type": "code",
      "source": [
        "A0 = random.randn(100,100)\n",
        "Q0, _ = linalg.qr(A0)\n",
        "A1 = random.randn(100,100)\n",
        "_, R1 = linalg.qr(A1)\n",
        "A2 = Q0@R1\n",
        "Q2, R2 = linalg.qr(A2)"
      ],
      "metadata": {
        "id": "vXTsMlCjZVtb"
      },
      "execution_count": 2,
      "outputs": []
    },
    {
      "cell_type": "code",
      "source": [
        "print(linalg.norm(Q2-Q0))"
      ],
      "metadata": {
        "colab": {
          "base_uri": "https://localhost:8080/"
        },
        "id": "kxmFtkp-Zm07",
        "outputId": "ca353d8a-9391-4f87-c6c6-70298486826c"
      },
      "execution_count": 3,
      "outputs": [
        {
          "output_type": "stream",
          "name": "stdout",
          "text": [
            "1.2214463899354748e-14\n"
          ]
        }
      ]
    },
    {
      "cell_type": "code",
      "source": [
        "print(linalg.norm(R2-R1))"
      ],
      "metadata": {
        "colab": {
          "base_uri": "https://localhost:8080/"
        },
        "id": "-86raxbaZzqT",
        "outputId": "13d19205-9d24-4e15-f3e9-7f7998472a7b"
      },
      "execution_count": 4,
      "outputs": [
        {
          "output_type": "stream",
          "name": "stdout",
          "text": [
            "7.324041460464536e-14\n"
          ]
        }
      ]
    },
    {
      "cell_type": "code",
      "source": [
        "print(linalg.norm(A2-Q2@R2))"
      ],
      "metadata": {
        "colab": {
          "base_uri": "https://localhost:8080/"
        },
        "id": "bVSeJm-lZ6zC",
        "outputId": "a2c7c7d8-70fe-45ed-c456-b34f16c46556"
      },
      "execution_count": 5,
      "outputs": [
        {
          "output_type": "stream",
          "name": "stdout",
          "text": [
            "6.561015625656771e-14\n"
          ]
        }
      ]
    },
    {
      "cell_type": "code",
      "source": [
        "A0 = random.randn(100,100)\n",
        "Q0, _ = linalg.qr(A0)\n",
        "R0 = triu(random.randn(100,100))\n",
        "A1 = Q0@R0\n",
        "Q1, R1 = linalg.qr(A1)"
      ],
      "metadata": {
        "id": "l6Xox0dnVRxD"
      },
      "execution_count": 6,
      "outputs": []
    },
    {
      "cell_type": "code",
      "source": [
        "print(linalg.norm(Q0-Q1))"
      ],
      "metadata": {
        "colab": {
          "base_uri": "https://localhost:8080/"
        },
        "id": "QrRiDSvvVTmF",
        "outputId": "ef378ff3-b115-4a63-bef1-cddfcce9e611"
      },
      "execution_count": 7,
      "outputs": [
        {
          "output_type": "stream",
          "name": "stdout",
          "text": [
            "8.894429580672229\n"
          ]
        }
      ]
    },
    {
      "cell_type": "code",
      "source": [
        "print(linalg.norm(R2-R0))"
      ],
      "metadata": {
        "colab": {
          "base_uri": "https://localhost:8080/"
        },
        "id": "YoWBFjFQWD2H",
        "outputId": "05892850-de2f-4a2f-d134-2f4481e55684"
      },
      "execution_count": 9,
      "outputs": [
        {
          "output_type": "stream",
          "name": "stdout",
          "text": [
            "123.56071178679377\n"
          ]
        }
      ]
    },
    {
      "cell_type": "code",
      "source": [
        "print(linalg.norm(A1-Q1@R1))"
      ],
      "metadata": {
        "colab": {
          "base_uri": "https://localhost:8080/"
        },
        "id": "kBu8lHesVpeK",
        "outputId": "9e548b36-ec76-407f-d932-4ea052c460ca"
      },
      "execution_count": 8,
      "outputs": [
        {
          "output_type": "stream",
          "name": "stdout",
          "text": [
            "5.013332623623369e-14\n"
          ]
        }
      ]
    }
  ]
}