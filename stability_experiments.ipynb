{
  "nbformat": 4,
  "nbformat_minor": 0,
  "metadata": {
    "colab": {
      "provenance": [],
      "authorship_tag": "ABX9TyPb17FFqcfI0R19ENr5xAfG",
      "include_colab_link": true
    },
    "kernelspec": {
      "name": "python3",
      "display_name": "Python 3"
    },
    "language_info": {
      "name": "python"
    }
  },
  "cells": [
    {
      "cell_type": "markdown",
      "metadata": {
        "id": "view-in-github",
        "colab_type": "text"
      },
      "source": [
        "<a href=\"https://colab.research.google.com/github/comp-lin-alg/CLA_colab/blob/main/stability_experiments.ipynb\" target=\"_parent\"><img src=\"https://colab.research.google.com/assets/colab-badge.svg\" alt=\"Open In Colab\"/></a>"
      ]
    },
    {
      "cell_type": "code",
      "execution_count": 1,
      "metadata": {
        "id": "scqLyiXkQmXk"
      },
      "outputs": [],
      "source": [
        "from numpy import *"
      ]
    },
    {
      "cell_type": "code",
      "source": [],
      "metadata": {
        "id": "wNsSMAIOQrGO"
      },
      "execution_count": null,
      "outputs": []
    }
  ]
}