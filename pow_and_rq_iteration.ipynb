{
  "nbformat": 4,
  "nbformat_minor": 0,
  "metadata": {
    "colab": {
      "provenance": [],
      "authorship_tag": "ABX9TyMRdxoqKELMMyDL4pz7bkcU",
      "include_colab_link": true
    },
    "kernelspec": {
      "name": "python3",
      "display_name": "Python 3"
    },
    "language_info": {
      "name": "python"
    }
  },
  "cells": [
    {
      "cell_type": "markdown",
      "metadata": {
        "id": "view-in-github",
        "colab_type": "text"
      },
      "source": [
        "<a href=\"https://colab.research.google.com/github/comp-lin-alg/CLA_colab/blob/main/pow_and_rq_iteration.ipynb\" target=\"_parent\"><img src=\"https://colab.research.google.com/assets/colab-badge.svg\" alt=\"Open In Colab\"/></a>"
      ]
    },
    {
      "cell_type": "code",
      "execution_count": 1,
      "metadata": {
        "id": "l3rGfnE7JgOv"
      },
      "outputs": [],
      "source": [
        "from numpy import *"
      ]
    },
    {
      "cell_type": "code",
      "source": [
        "A = random.randn(50,50)"
      ],
      "metadata": {
        "id": "JHBFQlpjJueI"
      },
      "execution_count": 2,
      "outputs": []
    },
    {
      "cell_type": "code",
      "source": [
        "A = 0.5*(A + A.T); linalg.norm(A-A.T)"
      ],
      "metadata": {
        "colab": {
          "base_uri": "https://localhost:8080/"
        },
        "id": "lcZyx4pzJ594",
        "outputId": "651519db-68c2-455a-d608-a4ea3e5e254a"
      },
      "execution_count": 3,
      "outputs": [
        {
          "output_type": "execute_result",
          "data": {
            "text/plain": [
              "0.0"
            ]
          },
          "metadata": {},
          "execution_count": 3
        }
      ]
    },
    {
      "cell_type": "code",
      "source": [
        "e, v = linalg.eig(A)"
      ],
      "metadata": {
        "id": "l3l480beJ7_I"
      },
      "execution_count": 4,
      "outputs": []
    },
    {
      "cell_type": "code",
      "source": [
        "ll = e[5]; vv = v[:,5]"
      ],
      "metadata": {
        "id": "JMBB7HeEKA-m"
      },
      "execution_count": 5,
      "outputs": []
    },
    {
      "cell_type": "code",
      "source": [
        "linalg.norm(A@vv - ll*vv)"
      ],
      "metadata": {
        "colab": {
          "base_uri": "https://localhost:8080/"
        },
        "id": "OZFWXQVUKNb2",
        "outputId": "c8a8b41e-a159-47af-e9e4-9811d070ac39"
      },
      "execution_count": 6,
      "outputs": [
        {
          "output_type": "execute_result",
          "data": {
            "text/plain": [
              "3.073088132097857e-14"
            ]
          },
          "metadata": {},
          "execution_count": 6
        }
      ]
    },
    {
      "cell_type": "code",
      "source": [
        "r = random.randn(50)"
      ],
      "metadata": {
        "id": "-Jd7STg9KS3n"
      },
      "execution_count": 7,
      "outputs": []
    },
    {
      "cell_type": "code",
      "source": [
        "epsilon = 10.**(-arange(5)); epsilon"
      ],
      "metadata": {
        "colab": {
          "base_uri": "https://localhost:8080/"
        },
        "id": "jzpKbEVKKdlJ",
        "outputId": "bc3ab8ac-bafc-4d59-e214-9383f4e18416"
      },
      "execution_count": 8,
      "outputs": [
        {
          "output_type": "execute_result",
          "data": {
            "text/plain": [
              "array([1.e+00, 1.e-01, 1.e-02, 1.e-03, 1.e-04])"
            ]
          },
          "metadata": {},
          "execution_count": 8
        }
      ]
    },
    {
      "cell_type": "code",
      "source": [
        "ee_est = zeros_like(epsilon)"
      ],
      "metadata": {
        "id": "GStx01fdLN_R"
      },
      "execution_count": 9,
      "outputs": []
    },
    {
      "cell_type": "code",
      "source": [
        "for i in range(epsilon.size):\n",
        "  vpert = vv + epsilon[i]*r\n",
        "  ee_est[i] = vpert.dot(A@vpert)/vpert.dot(vpert)"
      ],
      "metadata": {
        "id": "XfshjZmgLYfF"
      },
      "execution_count": 10,
      "outputs": []
    },
    {
      "cell_type": "code",
      "source": [
        "import matplotlib.pyplot as pp"
      ],
      "metadata": {
        "id": "CbmcBoMBLdQE"
      },
      "execution_count": 11,
      "outputs": []
    },
    {
      "cell_type": "code",
      "source": [
        "ee_err = abs(ee_est-ll)"
      ],
      "metadata": {
        "id": "-hjjKVPpLprm"
      },
      "execution_count": 12,
      "outputs": []
    },
    {
      "cell_type": "code",
      "source": [
        "pp.loglog(epsilon, ee_err,'.'); pp.loglog(epsilon,epsilon**2)"
      ],
      "metadata": {
        "colab": {
          "base_uri": "https://localhost:8080/",
          "height": 286
        },
        "id": "gQTefz5mLv19",
        "outputId": "344fadaa-dec6-4e27-9c70-83224e3b1d25"
      },
      "execution_count": 13,
      "outputs": [
        {
          "output_type": "execute_result",
          "data": {
            "text/plain": [
              "[<matplotlib.lines.Line2D at 0x7f3e15659750>]"
            ]
          },
          "metadata": {},
          "execution_count": 13
        },
        {
          "output_type": "display_data",
          "data": {
            "text/plain": [
              "<Figure size 432x288 with 1 Axes>"
            ],
            "image/png": "[encoded data removed]"
          },
          "metadata": {
            "needs_background": "light"
          }
        }
      ]
    },
    {
      "cell_type": "code",
      "source": [
        "def pow_it(A, x0, tol):\n",
        "  x = x0.copy()\n",
        "  residual = 1.0e100\n",
        "  its = 0\n",
        "  while residual > tol:\n",
        "    its += 1\n",
        "    x = A@x\n",
        "    x = x/(x.dot(x)**0.5)\n",
        "    rq = x.dot(A@x)\n",
        "    residual = linalg.norm(A@x-rq*x)\n",
        "    print(rq)\n",
        "  return x, rq, its"
      ],
      "metadata": {
        "id": "Bizyvn1jL3o8"
      },
      "execution_count": 14,
      "outputs": []
    },
    {
      "cell_type": "code",
      "source": [
        "A3 = array([[ 0.76505141, -0.03865876,  0.42107996],\n",
        "                    [-0.03865876,  0.20264378, -0.02824925],\n",
        "                   [ 0.42107996, -0.02824925,  0.23330481]]); A3"
      ],
      "metadata": {
        "id": "cM79FiieM-pK",
        "colab": {
          "base_uri": "https://localhost:8080/"
        },
        "outputId": "7b37c4f9-3339-4b91-819e-2a9562ff2e09"
      },
      "execution_count": 15,
      "outputs": [
        {
          "output_type": "execute_result",
          "data": {
            "text/plain": [
              "array([[ 0.76505141, -0.03865876,  0.42107996],\n",
              "       [-0.03865876,  0.20264378, -0.02824925],\n",
              "       [ 0.42107996, -0.02824925,  0.23330481]])"
            ]
          },
          "metadata": {},
          "execution_count": 15
        }
      ]
    },
    {
      "cell_type": "code",
      "source": [
        "B3 = array([[ 0.76861909,  0.01464606,  0.42118629],\n",
        "                     [ 0.01464606,  0.99907192, -0.02666057],\n",
        "                     [ 0.42118629, -0.02666057,  0.23330798]]); B3"
      ],
      "metadata": {
        "id": "1T3APSN0NzSe",
        "colab": {
          "base_uri": "https://localhost:8080/"
        },
        "outputId": "6189b441-38e8-42a5-dd83-f44fdecb2fdd"
      },
      "execution_count": 16,
      "outputs": [
        {
          "output_type": "execute_result",
          "data": {
            "text/plain": [
              "array([[ 0.76861909,  0.01464606,  0.42118629],\n",
              "       [ 0.01464606,  0.99907192, -0.02666057],\n",
              "       [ 0.42118629, -0.02666057,  0.23330798]])"
            ]
          },
          "metadata": {},
          "execution_count": 16
        }
      ]
    },
    {
      "cell_type": "code",
      "source": [
        "x = random.randn(3); x"
      ],
      "metadata": {
        "id": "k-0GDbjvN5YM",
        "colab": {
          "base_uri": "https://localhost:8080/"
        },
        "outputId": "0384eef5-3b53-4c8d-ada6-0bb4e078def1"
      },
      "execution_count": 17,
      "outputs": [
        {
          "output_type": "execute_result",
          "data": {
            "text/plain": [
              "array([-0.60707868,  0.42383816,  0.19922809])"
            ]
          },
          "metadata": {},
          "execution_count": 17
        }
      ]
    },
    {
      "cell_type": "code",
      "source": [
        "v, ee, nits = pow_it(A3, x, 1.0e-6)"
      ],
      "metadata": {
        "colab": {
          "base_uri": "https://localhost:8080/"
        },
        "id": "-6pWIx1uOEpB",
        "outputId": "d3067d03-4375-4a32-820f-db8134605ac3"
      },
      "execution_count": 18,
      "outputs": [
        {
          "output_type": "stream",
          "name": "stdout",
          "text": [
            "0.9784174482111947\n",
            "0.9991137879708447\n",
            "0.999964513409746\n",
            "0.9999985801063066\n",
            "0.999999942834582\n",
            "0.9999999973438122\n",
            "0.9999999995241813\n",
            "0.9999999996113964\n",
            "0.9999999996148848\n"
          ]
        }
      ]
    },
    {
      "cell_type": "code",
      "source": [
        "v, ee, nits = pow_it(B3, x, 1.0e-6)"
      ],
      "metadata": {
        "colab": {
          "base_uri": "https://localhost:8080/"
        },
        "id": "tX7IDGhIQ9Sm",
        "outputId": "be38c546-ecf1-4915-e0e7-373b87570ee9"
      },
      "execution_count": 19,
      "outputs": [
        {
          "output_type": "stream",
          "name": "stdout",
          "text": [
            "0.9999989425510503\n",
            "0.9999995846956409\n"
          ]
        }
      ]
    },
    {
      "cell_type": "markdown",
      "source": [
        "Try 1.0e-7!"
      ],
      "metadata": {
        "id": "rBpYo_qWSQ4M"
      }
    },
    {
      "cell_type": "code",
      "source": [
        "eA, _ = linalg.eig(A3); eA"
      ],
      "metadata": {
        "colab": {
          "base_uri": "https://localhost:8080/"
        },
        "id": "zSoK5eM_REtv",
        "outputId": "5b08165d-e249-4970-c908-e121c4ffb335"
      },
      "execution_count": 20,
      "outputs": [
        {
          "output_type": "execute_result",
          "data": {
            "text/plain": [
              "array([1.00000000e+00, 9.99995908e-04, 2.00000004e-01])"
            ]
          },
          "metadata": {},
          "execution_count": 20
        }
      ]
    },
    {
      "cell_type": "code",
      "source": [
        "eB, _ = linalg.eig(B3); eB"
      ],
      "metadata": {
        "colab": {
          "base_uri": "https://localhost:8080/"
        },
        "id": "6zWlj_xsRoQ9",
        "outputId": "509ee6c7-4778-4247-8c35-3d64c1cc592b"
      },
      "execution_count": 21,
      "outputs": [
        {
          "output_type": "execute_result",
          "data": {
            "text/plain": [
              "array([9.99995858e-04, 9.99999997e-01, 9.99998997e-01])"
            ]
          },
          "metadata": {},
          "execution_count": 21
        }
      ]
    },
    {
      "cell_type": "code",
      "source": [
        "def rq_it(A, x0, l0, tol):\n",
        "  x = x0.copy()\n",
        "  residual = 1.0e100\n",
        "  its = 0\n",
        "  rq = l0\n",
        "  while residual > tol:\n",
        "    its += 1\n",
        "    x = linalg.solve(A - rq*eye(3), x)\n",
        "    x = x/(x.dot(x)**0.5)\n",
        "    rq = x.dot(A@x)\n",
        "    residual = linalg.norm(A@x-rq*x)\n",
        "    print(rq)\n",
        "  return x, rq, its"
      ],
      "metadata": {
        "id": "1UdofGAjRq1w"
      },
      "execution_count": 22,
      "outputs": []
    },
    {
      "cell_type": "code",
      "source": [
        "v, ee, nits = rq_it(A3, x, 0.8, 1.0e-8)"
      ],
      "metadata": {
        "colab": {
          "base_uri": "https://localhost:8080/"
        },
        "id": "iT55339oSrp9",
        "outputId": "9aaecd88-569a-4092-92b5-07020c45818d"
      },
      "execution_count": 23,
      "outputs": [
        {
          "output_type": "stream",
          "name": "stdout",
          "text": [
            "0.8867160267129087\n",
            "0.9972179032100857\n",
            "0.9999999705051865\n",
            "0.9999999996150303\n"
          ]
        }
      ]
    },
    {
      "cell_type": "code",
      "source": [
        "eA - ee"
      ],
      "metadata": {
        "colab": {
          "base_uri": "https://localhost:8080/"
        },
        "id": "dceIDflVTehe",
        "outputId": "9cb9d1be-5ee5-4f2d-e2fd-5149f09803b7"
      },
      "execution_count": 24,
      "outputs": [
        {
          "output_type": "execute_result",
          "data": {
            "text/plain": [
              "array([-3.33066907e-16, -9.99000004e-01, -7.99999995e-01])"
            ]
          },
          "metadata": {},
          "execution_count": 24
        }
      ]
    },
    {
      "cell_type": "code",
      "source": [
        "v, ee, nits = rq_it(B3, x, 0.8, 1.0e-8)"
      ],
      "metadata": {
        "colab": {
          "base_uri": "https://localhost:8080/"
        },
        "id": "IJRqOYTPTFGs",
        "outputId": "58acba24-2219-41fc-d95b-e41af39fcbbb"
      },
      "execution_count": 25,
      "outputs": [
        {
          "output_type": "stream",
          "name": "stdout",
          "text": [
            "0.9613225735196018\n",
            "0.9999343251059323\n",
            "0.9999995772328533\n",
            "0.9999997222367856\n",
            "0.9999999452815205\n",
            "0.9999999966237945\n",
            "0.9999999967840627\n"
          ]
        }
      ]
    },
    {
      "cell_type": "code",
      "source": [
        "eB - ee"
      ],
      "metadata": {
        "colab": {
          "base_uri": "https://localhost:8080/"
        },
        "id": "QpulCaxoTI2d",
        "outputId": "263a1510-b9d2-46d5-b14f-629ef80c81a9"
      },
      "execution_count": 26,
      "outputs": [
        {
          "output_type": "execute_result",
          "data": {
            "text/plain": [
              "array([-9.99000001e-01, -1.11022302e-16, -9.99425976e-07])"
            ]
          },
          "metadata": {},
          "execution_count": 26
        }
      ]
    }
  ]
}