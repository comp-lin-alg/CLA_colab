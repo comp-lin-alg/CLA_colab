{
  "nbformat": 4,
  "nbformat_minor": 0,
  "metadata": {
    "colab": {
      "provenance": [],
      "authorship_tag": "ABX9TyOPFqSpXNVvaRpD3FfH5Iwi",
      "include_colab_link": true
    },
    "kernelspec": {
      "name": "python3",
      "display_name": "Python 3"
    },
    "language_info": {
      "name": "python"
    }
  },
  "cells": [
    {
      "cell_type": "markdown",
      "metadata": {
        "id": "view-in-github",
        "colab_type": "text"
      },
      "source": [
        "<a href=\"https://colab.research.google.com/github/comp-lin-alg/CLA_colab/blob/main/pow_and_rq_iteration.ipynb\" target=\"_parent\"><img src=\"https://colab.research.google.com/assets/colab-badge.svg\" alt=\"Open In Colab\"/></a>"
      ]
    },
    {
      "cell_type": "code",
      "execution_count": 1,
      "metadata": {
        "id": "l3rGfnE7JgOv"
      },
      "outputs": [],
      "source": [
        "from numpy import *"
      ]
    },
    {
      "cell_type": "code",
      "source": [
        "A = random.randn(50,50)"
      ],
      "metadata": {
        "id": "JHBFQlpjJueI"
      },
      "execution_count": 2,
      "outputs": []
    },
    {
      "cell_type": "code",
      "source": [
        "A = 0.5*(A + A.T); linalg.norm(A-A.T)"
      ],
      "metadata": {
        "colab": {
          "base_uri": "https://localhost:8080/"
        },
        "id": "lcZyx4pzJ594",
        "outputId": "262c3242-bf82-47a2-d856-10d4c3f57225"
      },
      "execution_count": 4,
      "outputs": [
        {
          "output_type": "execute_result",
          "data": {
            "text/plain": [
              "0.0"
            ]
          },
          "metadata": {},
          "execution_count": 4
        }
      ]
    },
    {
      "cell_type": "code",
      "source": [
        "e, v = linalg.eig(A)"
      ],
      "metadata": {
        "id": "l3l480beJ7_I"
      },
      "execution_count": 7,
      "outputs": []
    },
    {
      "cell_type": "code",
      "source": [
        "ll = e[5]; vv = v[:,5]"
      ],
      "metadata": {
        "id": "JMBB7HeEKA-m"
      },
      "execution_count": 10,
      "outputs": []
    },
    {
      "cell_type": "code",
      "source": [
        "linalg.norm(A@vv - ll*vv)"
      ],
      "metadata": {
        "colab": {
          "base_uri": "https://localhost:8080/"
        },
        "id": "OZFWXQVUKNb2",
        "outputId": "bf83360a-12e0-4707-86a8-ec3298d02e77"
      },
      "execution_count": 11,
      "outputs": [
        {
          "output_type": "execute_result",
          "data": {
            "text/plain": [
              "2.3901882236077556e-14"
            ]
          },
          "metadata": {},
          "execution_count": 11
        }
      ]
    },
    {
      "cell_type": "code",
      "source": [
        "r = random.randn(50)"
      ],
      "metadata": {
        "id": "-Jd7STg9KS3n"
      },
      "execution_count": 12,
      "outputs": []
    },
    {
      "cell_type": "code",
      "source": [
        "epsilon = 10.**(-arange(5)); epsilon"
      ],
      "metadata": {
        "colab": {
          "base_uri": "https://localhost:8080/"
        },
        "id": "jzpKbEVKKdlJ",
        "outputId": "beef9bbe-43a6-4a98-f2f1-fbe0f9ecb190"
      },
      "execution_count": 14,
      "outputs": [
        {
          "output_type": "execute_result",
          "data": {
            "text/plain": [
              "array([1.e+00, 1.e-01, 1.e-02, 1.e-03, 1.e-04])"
            ]
          },
          "metadata": {},
          "execution_count": 14
        }
      ]
    },
    {
      "cell_type": "code",
      "source": [
        "ee_est = zeros_like(epsilon)"
      ],
      "metadata": {
        "id": "GStx01fdLN_R"
      },
      "execution_count": 20,
      "outputs": []
    },
    {
      "cell_type": "code",
      "source": [
        "for i in range(epsilon.size):\n",
        "  vpert = vv + epsilon[i]*r\n",
        "  ee_est[i] = vpert.dot(A@vpert)/vpert.dot(vpert)"
      ],
      "metadata": {
        "id": "XfshjZmgLYfF"
      },
      "execution_count": 23,
      "outputs": []
    },
    {
      "cell_type": "code",
      "source": [
        "import matplotlib.pyplot as pp"
      ],
      "metadata": {
        "id": "CbmcBoMBLdQE"
      },
      "execution_count": 24,
      "outputs": []
    },
    {
      "cell_type": "code",
      "source": [
        "ee_err = abs(ee_est-ll)"
      ],
      "metadata": {
        "id": "-hjjKVPpLprm"
      },
      "execution_count": 25,
      "outputs": []
    },
    {
      "cell_type": "code",
      "source": [
        "pp.loglog(epsilon, ee_err)"
      ],
      "metadata": {
        "colab": {
          "base_uri": "https://localhost:8080/",
          "height": 288
        },
        "id": "gQTefz5mLv19",
        "outputId": "7144a9c2-6121-47c2-f623-a4246e03ce96"
      },
      "execution_count": 29,
      "outputs": [
        {
          "output_type": "execute_result",
          "data": {
            "text/plain": [
              "[<matplotlib.lines.Line2D at 0x7f3339fe9910>]"
            ]
          },
          "metadata": {},
          "execution_count": 29
        },
        {
          "output_type": "display_data",
          "data": {
            "text/plain": [
              "<Figure size 432x288 with 1 Axes>"
            ],
            "image/png": "[encoded data removed]"
          },
          "metadata": {
            "needs_background": "light"
          }
        }
      ]
    },
    {
      "cell_type": "code",
      "source": [
        "def pow_it(A, x0, tol):\n",
        "  x = x0.copy()\n",
        "  residual = 1.0e100\n",
        "  its = 0\n",
        "  while residual > tol:\n",
        "    its += 1\n",
        "    x = A@x\n",
        "    x = x/(x.dot(x)**0.5)\n",
        "    rq = x.dot(A@x)\n",
        "    residual = linalg.norm(A@x-rq*x)\n",
        "    print(rq)\n",
        "  return x, rq, its"
      ],
      "metadata": {
        "id": "Bizyvn1jL3o8"
      },
      "execution_count": null,
      "outputs": []
    },
    {
      "cell_type": "code",
      "source": [
        "A3 = array([[ 0.76505141, -0.03865876,  0.42107996],\n",
        "                    [-0.03865876,  0.20264378, -0.02824925],\n",
        "                   [ 0.42107996, -0.02824925,  0.23330481]]); A3"
      ],
      "metadata": {
        "id": "cM79FiieM-pK"
      },
      "execution_count": null,
      "outputs": []
    },
    {
      "cell_type": "code",
      "source": [
        "B3 = array([[ 0.76861909,  0.01464606,  0.42118629],\n",
        "                     [ 0.01464606,  0.99907192, -0.02666057],\n",
        "                     [ 0.42118629, -0.02666057,  0.23330798]]); B3"
      ],
      "metadata": {
        "id": "1T3APSN0NzSe"
      },
      "execution_count": null,
      "outputs": []
    },
    {
      "cell_type": "code",
      "source": [
        "x = random.randn(3); x"
      ],
      "metadata": {
        "id": "k-0GDbjvN5YM"
      },
      "execution_count": null,
      "outputs": []
    },
    {
      "cell_type": "code",
      "source": [
        "v, ee, nits = pow_it(A3, x, 1.0e-6)"
      ],
      "metadata": {
        "colab": {
          "base_uri": "https://localhost:8080/"
        },
        "id": "-6pWIx1uOEpB",
        "outputId": "5e952dcf-81b3-4704-8d84-097cb82d60f4"
      },
      "execution_count": 113,
      "outputs": [
        {
          "output_type": "stream",
          "name": "stdout",
          "text": [
            "0.9992897060823254 0.8763906825056801\n",
            "0.99997166403822 0.8744123992523604\n",
            "0.999998866153466 0.8741085479610124\n",
            "0.9999999542765041 0.8740455504558923\n",
            "0.999999997801489 0.8740328559903101\n",
            "0.9999999995424889 0.8740303132929889\n",
            "0.9999999996121288 0.8740298046013439\n",
            "0.9999999996149143 0.8740297028569258\n"
          ]
        }
      ]
    },
    {
      "cell_type": "code",
      "source": [
        "v, ee, nits = pow_it(B3, x, 1.0e-6)"
      ],
      "metadata": {
        "colab": {
          "base_uri": "https://localhost:8080/"
        },
        "id": "tX7IDGhIQ9Sm",
        "outputId": "8fae5998-fcc8-49cf-c819-6d1b886348e0"
      },
      "execution_count": 114,
      "outputs": [
        {
          "output_type": "stream",
          "name": "stdout",
          "text": [
            "0.9999975204903312 0.8750941759398941\n",
            "0.9999999759996009 0.8743414965053524\n",
            "0.9999999760020972 0.8743407516697701\n"
          ]
        }
      ]
    },
    {
      "cell_type": "markdown",
      "source": [
        "Try 1.0e-7!"
      ],
      "metadata": {
        "id": "rBpYo_qWSQ4M"
      }
    },
    {
      "cell_type": "code",
      "source": [
        "eA, _ = linalg.eig(A3); eA"
      ],
      "metadata": {
        "colab": {
          "base_uri": "https://localhost:8080/"
        },
        "id": "zSoK5eM_REtv",
        "outputId": "844cad90-1a19-4d3a-8b6c-469cccf3e48a"
      },
      "execution_count": 105,
      "outputs": [
        {
          "output_type": "execute_result",
          "data": {
            "text/plain": [
              "array([1.00000000e+00, 9.99995908e-04, 2.00000004e-01])"
            ]
          },
          "metadata": {},
          "execution_count": 105
        }
      ]
    },
    {
      "cell_type": "code",
      "source": [
        "eB, _ = linalg.eig(B3); eB"
      ],
      "metadata": {
        "colab": {
          "base_uri": "https://localhost:8080/"
        },
        "id": "6zWlj_xsRoQ9",
        "outputId": "1b2f33e5-a491-4a0f-f069-82a3c0425677"
      },
      "execution_count": 106,
      "outputs": [
        {
          "output_type": "execute_result",
          "data": {
            "text/plain": [
              "array([9.99995858e-04, 9.99999997e-01, 9.99998997e-01])"
            ]
          },
          "metadata": {},
          "execution_count": 106
        }
      ]
    },
    {
      "cell_type": "code",
      "source": [
        "def rq_it(A, x0, l0, tol):\n",
        "  x = x0.copy()\n",
        "  residual = 1.0e100\n",
        "  its = 0\n",
        "  rq = l0\n",
        "  while residual > tol:\n",
        "    its += 1\n",
        "    x = linalg.solve(A - rq*eye(3), x)\n",
        "    x = x/(x.dot(x)**0.5)\n",
        "    rq = x.dot(A@x)\n",
        "    residual = linalg.norm(A@x-rq*x)\n",
        "    print(rq)\n",
        "  return x, rq, its"
      ],
      "metadata": {
        "id": "1UdofGAjRq1w"
      },
      "execution_count": 116,
      "outputs": []
    },
    {
      "cell_type": "code",
      "source": [
        "v, ee, nits = rq_it(A3, x, 0.8, 1.0e-8)"
      ],
      "metadata": {
        "colab": {
          "base_uri": "https://localhost:8080/"
        },
        "id": "iT55339oSrp9",
        "outputId": "55e18a2b-a006-4b07-c672-2735d1d2d017"
      },
      "execution_count": 119,
      "outputs": [
        {
          "output_type": "stream",
          "name": "stdout",
          "text": [
            "0.862718939550646\n",
            "0.995940921941864\n",
            "0.999999930987702\n",
            "0.9999999996150299\n"
          ]
        }
      ]
    },
    {
      "cell_type": "code",
      "source": [
        "eA - ee"
      ],
      "metadata": {
        "colab": {
          "base_uri": "https://localhost:8080/"
        },
        "id": "dceIDflVTehe",
        "outputId": "888dc450-6307-4c42-f0b9-f65f6167b5b2"
      },
      "execution_count": 123,
      "outputs": [
        {
          "output_type": "execute_result",
          "data": {
            "text/plain": [
              "array([ 2.83096724e-09, -9.99000001e-01, -7.99999992e-01])"
            ]
          },
          "metadata": {},
          "execution_count": 123
        }
      ]
    },
    {
      "cell_type": "code",
      "source": [
        "v, ee, nits = rq_it(B3, x, 0.8, 1.0e-8)"
      ],
      "metadata": {
        "colab": {
          "base_uri": "https://localhost:8080/"
        },
        "id": "IJRqOYTPTFGs",
        "outputId": "9a8d3267-1f74-4022-f4fc-563b3b0e9e0a"
      },
      "execution_count": 120,
      "outputs": [
        {
          "output_type": "stream",
          "name": "stdout",
          "text": [
            "0.8666774321065125\n",
            "0.9963639715992977\n",
            "0.9999999272943177\n",
            "0.9999999966654998\n",
            "0.9999999967840627\n"
          ]
        }
      ]
    },
    {
      "cell_type": "code",
      "source": [
        "eB - ee"
      ],
      "metadata": {
        "colab": {
          "base_uri": "https://localhost:8080/"
        },
        "id": "QpulCaxoTI2d",
        "outputId": "bc83b28c-28e1-454c-e755-498a350f5ca7"
      },
      "execution_count": 122,
      "outputs": [
        {
          "output_type": "execute_result",
          "data": {
            "text/plain": [
              "array([-9.99000001e-01, -1.11022302e-16, -9.99425976e-07])"
            ]
          },
          "metadata": {},
          "execution_count": 122
        }
      ]
    }
  ]
}