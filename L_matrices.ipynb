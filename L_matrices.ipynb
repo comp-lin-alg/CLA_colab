{
  "nbformat": 4,
  "nbformat_minor": 0,
  "metadata": {
    "colab": {
      "provenance": [],
      "authorship_tag": "ABX9TyNlSWZnRSHb5rJQVRVpoOMI",
      "include_colab_link": true
    },
    "kernelspec": {
      "name": "python3",
      "display_name": "Python 3"
    },
    "language_info": {
      "name": "python"
    }
  },
  "cells": [
    {
      "cell_type": "markdown",
      "metadata": {
        "id": "view-in-github",
        "colab_type": "text"
      },
      "source": [
        "<a href=\"https://colab.research.google.com/github/comp-lin-alg/CLA_colab/blob/main/L_matrices.ipynb\" target=\"_parent\"><img src=\"https://colab.research.google.com/assets/colab-badge.svg\" alt=\"Open In Colab\"/></a>"
      ]
    },
    {
      "cell_type": "code",
      "execution_count": 1,
      "metadata": {
        "id": "KqvCVjCDp1M2"
      },
      "outputs": [],
      "source": [
        "from numpy import *"
      ]
    },
    {
      "cell_type": "code",
      "source": [
        "set_printoptions(precision=6, suppress=True)"
      ],
      "metadata": {
        "id": "mEkRRxtIv9R7"
      },
      "execution_count": 2,
      "outputs": []
    },
    {
      "cell_type": "code",
      "source": [
        "def ek(k,n):\n",
        "  e = zeros(n,)\n",
        "  e[k] = 1\n",
        "  return e"
      ],
      "metadata": {
        "id": "_QiGSwN-p5kA"
      },
      "execution_count": 3,
      "outputs": []
    },
    {
      "cell_type": "code",
      "source": [
        "e = ek(0,5)"
      ],
      "metadata": {
        "id": "pP3ng0nrqeWM"
      },
      "execution_count": 4,
      "outputs": []
    },
    {
      "cell_type": "code",
      "source": [
        "col = random.randn(5); col"
      ],
      "metadata": {
        "colab": {
          "base_uri": "https://localhost:8080/"
        },
        "id": "7N7SSEzew4nR",
        "outputId": "18eee0c7-7c04-4c79-ef39-2b8cd7860eee"
      },
      "execution_count": 5,
      "outputs": [
        {
          "output_type": "execute_result",
          "data": {
            "text/plain": [
              "array([-0.475485, -0.138376,  0.561279,  0.447463, -0.479643])"
            ]
          },
          "metadata": {},
          "execution_count": 5
        }
      ]
    },
    {
      "cell_type": "code",
      "source": [
        "l = -col.copy(); l[0] = 0; l /= col[0]"
      ],
      "metadata": {
        "id": "lpnttPRZqsX7"
      },
      "execution_count": 6,
      "outputs": []
    },
    {
      "cell_type": "code",
      "source": [
        "l"
      ],
      "metadata": {
        "colab": {
          "base_uri": "https://localhost:8080/"
        },
        "id": "ELAghxjSyhnW",
        "outputId": "6bfcaa67-da1d-459f-b3a0-ec2457d72e48"
      },
      "execution_count": 7,
      "outputs": [
        {
          "output_type": "execute_result",
          "data": {
            "text/plain": [
              "array([-0.      , -0.291022,  1.180434,  0.941068, -1.008746])"
            ]
          },
          "metadata": {},
          "execution_count": 7
        }
      ]
    },
    {
      "cell_type": "code",
      "source": [
        "outer(l,e)"
      ],
      "metadata": {
        "colab": {
          "base_uri": "https://localhost:8080/"
        },
        "id": "4lKiE6FMu5Kt",
        "outputId": "1c09999d-8574-4e47-ed6e-98d5e16c0306"
      },
      "execution_count": 8,
      "outputs": [
        {
          "output_type": "execute_result",
          "data": {
            "text/plain": [
              "array([[-0.      , -0.      , -0.      , -0.      , -0.      ],\n",
              "       [-0.291022, -0.      , -0.      , -0.      , -0.      ],\n",
              "       [ 1.180434,  0.      ,  0.      ,  0.      ,  0.      ],\n",
              "       [ 0.941068,  0.      ,  0.      ,  0.      ,  0.      ],\n",
              "       [-1.008746, -0.      , -0.      , -0.      , -0.      ]])"
            ]
          },
          "metadata": {},
          "execution_count": 8
        }
      ]
    },
    {
      "cell_type": "code",
      "source": [
        "L0 = outer(l,e) + eye(5)"
      ],
      "metadata": {
        "id": "RMHx306bq6eM"
      },
      "execution_count": 9,
      "outputs": []
    },
    {
      "cell_type": "markdown",
      "source": [
        "Checking that the inverse formula works."
      ],
      "metadata": {
        "id": "lf_wH5h_uw2f"
      }
    },
    {
      "cell_type": "code",
      "source": [
        "L0"
      ],
      "metadata": {
        "colab": {
          "base_uri": "https://localhost:8080/"
        },
        "id": "uMl9TA8Cq9E8",
        "outputId": "e9c68172-f5c9-421a-918a-d080b3db6042"
      },
      "execution_count": 10,
      "outputs": [
        {
          "output_type": "execute_result",
          "data": {
            "text/plain": [
              "array([[ 1.      ,  0.      ,  0.      ,  0.      ,  0.      ],\n",
              "       [-0.291022,  1.      ,  0.      ,  0.      ,  0.      ],\n",
              "       [ 1.180434,  0.      ,  1.      ,  0.      ,  0.      ],\n",
              "       [ 0.941068,  0.      ,  0.      ,  1.      ,  0.      ],\n",
              "       [-1.008746,  0.      ,  0.      ,  0.      ,  1.      ]])"
            ]
          },
          "metadata": {},
          "execution_count": 10
        }
      ]
    },
    {
      "cell_type": "code",
      "source": [
        "linalg.inv(L0)"
      ],
      "metadata": {
        "colab": {
          "base_uri": "https://localhost:8080/"
        },
        "id": "p3CLeVbqrPsC",
        "outputId": "75f14dec-c3de-40a4-f1cf-f1c9b9968487"
      },
      "execution_count": 11,
      "outputs": [
        {
          "output_type": "execute_result",
          "data": {
            "text/plain": [
              "array([[ 1.      ,  0.      ,  0.      ,  0.      , -0.      ],\n",
              "       [ 0.291022,  1.      ,  0.      ,  0.      , -0.      ],\n",
              "       [-1.180434,  0.      ,  1.      ,  0.      ,  0.      ],\n",
              "       [-0.941068,  0.      ,  0.      ,  1.      ,  0.      ],\n",
              "       [ 1.008746,  0.      , -0.      ,  0.      ,  1.      ]])"
            ]
          },
          "metadata": {},
          "execution_count": 11
        }
      ]
    },
    {
      "cell_type": "markdown",
      "source": [
        "Checking that the cancellation formula works"
      ],
      "metadata": {
        "id": "FeZNWtJHwhMK"
      }
    },
    {
      "cell_type": "code",
      "source": [
        "L0@col"
      ],
      "metadata": {
        "colab": {
          "base_uri": "https://localhost:8080/"
        },
        "id": "SJ3hGr2Owmui",
        "outputId": "ed2740fb-0006-4361-a94b-4bdb4623dc33"
      },
      "execution_count": 12,
      "outputs": [
        {
          "output_type": "execute_result",
          "data": {
            "text/plain": [
              "array([-0.475485,  0.      ,  0.      ,  0.      ,  0.      ])"
            ]
          },
          "metadata": {},
          "execution_count": 12
        }
      ]
    },
    {
      "cell_type": "code",
      "source": [
        "col = random.randn(5); col = L0@col"
      ],
      "metadata": {
        "id": "an2y7B2azC7W"
      },
      "execution_count": 13,
      "outputs": []
    },
    {
      "cell_type": "code",
      "source": [
        "l = -col.copy(); l[:2]=0; l /= col[1]; l"
      ],
      "metadata": {
        "colab": {
          "base_uri": "https://localhost:8080/"
        },
        "id": "F4Km5b5-rQ7r",
        "outputId": "bed015f8-6983-452e-8e27-f202d7f266dd"
      },
      "execution_count": 14,
      "outputs": [
        {
          "output_type": "execute_result",
          "data": {
            "text/plain": [
              "array([-0.      , -0.      , -1.318754,  0.176805,  0.471764])"
            ]
          },
          "metadata": {},
          "execution_count": 14
        }
      ]
    },
    {
      "cell_type": "code",
      "source": [
        "e = ek(1,5)"
      ],
      "metadata": {
        "id": "pUvq_GaQvSOM"
      },
      "execution_count": 15,
      "outputs": []
    },
    {
      "cell_type": "code",
      "source": [
        "L1 = outer(l,e) + eye(5)"
      ],
      "metadata": {
        "id": "Hndw_DR8vV0c"
      },
      "execution_count": 16,
      "outputs": []
    },
    {
      "cell_type": "markdown",
      "source": [
        "Checking that product formula works."
      ],
      "metadata": {
        "id": "zcAilR05vi08"
      }
    },
    {
      "cell_type": "code",
      "source": [
        "L1"
      ],
      "metadata": {
        "colab": {
          "base_uri": "https://localhost:8080/"
        },
        "id": "T3vxTBW7vf4U",
        "outputId": "551110b1-4cf8-4014-c153-ae9ea4029f59"
      },
      "execution_count": 17,
      "outputs": [
        {
          "output_type": "execute_result",
          "data": {
            "text/plain": [
              "array([[ 1.      ,  0.      ,  0.      ,  0.      ,  0.      ],\n",
              "       [ 0.      ,  1.      ,  0.      ,  0.      ,  0.      ],\n",
              "       [ 0.      , -1.318754,  1.      ,  0.      ,  0.      ],\n",
              "       [ 0.      ,  0.176805,  0.      ,  1.      ,  0.      ],\n",
              "       [ 0.      ,  0.471764,  0.      ,  0.      ,  1.      ]])"
            ]
          },
          "metadata": {},
          "execution_count": 17
        }
      ]
    },
    {
      "cell_type": "code",
      "source": [
        "linalg.inv(L1)"
      ],
      "metadata": {
        "colab": {
          "base_uri": "https://localhost:8080/"
        },
        "id": "FsY4ksS5vtGr",
        "outputId": "65d9c163-8295-44ad-a401-4f64db38244f"
      },
      "execution_count": 18,
      "outputs": [
        {
          "output_type": "execute_result",
          "data": {
            "text/plain": [
              "array([[ 1.      ,  0.      ,  0.      ,  0.      ,  0.      ],\n",
              "       [-0.      ,  1.      , -0.      , -0.      , -0.      ],\n",
              "       [ 0.      ,  1.318754,  1.      ,  0.      ,  0.      ],\n",
              "       [ 0.      , -0.176805,  0.      ,  1.      ,  0.      ],\n",
              "       [ 0.      , -0.471764,  0.      ,  0.      ,  1.      ]])"
            ]
          },
          "metadata": {},
          "execution_count": 18
        }
      ]
    },
    {
      "cell_type": "code",
      "source": [
        "linalg.inv(L0)@linalg.inv(L1)"
      ],
      "metadata": {
        "colab": {
          "base_uri": "https://localhost:8080/"
        },
        "id": "1Mc8fb83zui1",
        "outputId": "0f7190da-1bae-4bd2-cee0-9bc52972e288"
      },
      "execution_count": 21,
      "outputs": [
        {
          "output_type": "execute_result",
          "data": {
            "text/plain": [
              "array([[ 1.      ,  0.      ,  0.      ,  0.      , -0.      ],\n",
              "       [ 0.291022,  1.      ,  0.      ,  0.      , -0.      ],\n",
              "       [-1.180434,  1.318754,  1.      ,  0.      ,  0.      ],\n",
              "       [-0.941068, -0.176805,  0.      ,  1.      ,  0.      ],\n",
              "       [ 1.008746, -0.471764, -0.      ,  0.      ,  1.      ]])"
            ]
          },
          "metadata": {},
          "execution_count": 21
        }
      ]
    },
    {
      "cell_type": "markdown",
      "source": [
        "Checking that the product formula is special"
      ],
      "metadata": {
        "id": "FRToSQtFzpmt"
      }
    },
    {
      "cell_type": "code",
      "source": [
        "linalg.inv(L1)@linalg.inv(L0)"
      ],
      "metadata": {
        "colab": {
          "base_uri": "https://localhost:8080/"
        },
        "id": "5QBxOZZavv_D",
        "outputId": "d84f243b-af08-476d-bd4b-0c1a0dcf92ce"
      },
      "execution_count": 19,
      "outputs": [
        {
          "output_type": "execute_result",
          "data": {
            "text/plain": [
              "array([[ 1.      ,  0.      ,  0.      ,  0.      , -0.      ],\n",
              "       [ 0.291022,  1.      ,  0.      ,  0.      , -0.      ],\n",
              "       [-0.796648,  1.318754,  1.      ,  0.      ,  0.      ],\n",
              "       [-0.992522, -0.176805,  0.      ,  1.      ,  0.      ],\n",
              "       [ 0.871452, -0.471764, -0.      ,  0.      ,  1.      ]])"
            ]
          },
          "metadata": {},
          "execution_count": 19
        }
      ]
    },
    {
      "cell_type": "markdown",
      "source": [
        "Once more for emphasis!"
      ],
      "metadata": {
        "id": "mjsdlpI-0Dwk"
      }
    },
    {
      "cell_type": "code",
      "source": [
        "col = random.randn(5); col = L1@L0@col"
      ],
      "metadata": {
        "id": "eBpschG70Ge0"
      },
      "execution_count": 22,
      "outputs": []
    },
    {
      "cell_type": "code",
      "source": [
        "l = -col.copy(); l[:3]=0; l /= col[2]; l"
      ],
      "metadata": {
        "colab": {
          "base_uri": "https://localhost:8080/"
        },
        "id": "eHDpaTQ90LHk",
        "outputId": "fb4793e3-0925-4a7c-d89e-0897d812a67d"
      },
      "execution_count": 24,
      "outputs": [
        {
          "output_type": "execute_result",
          "data": {
            "text/plain": [
              "array([ -0.      ,  -0.      ,  -0.      , -12.194598, -12.00237 ])"
            ]
          },
          "metadata": {},
          "execution_count": 24
        }
      ]
    },
    {
      "cell_type": "code",
      "source": [
        "e = ek(2,5)"
      ],
      "metadata": {
        "id": "wX1SiI-A0NWc"
      },
      "execution_count": 25,
      "outputs": []
    },
    {
      "cell_type": "code",
      "source": [
        "L2 = outer(l,e) + eye(5)"
      ],
      "metadata": {
        "id": "HK5boaqY0S5r"
      },
      "execution_count": 26,
      "outputs": []
    },
    {
      "cell_type": "code",
      "source": [
        "L2"
      ],
      "metadata": {
        "colab": {
          "base_uri": "https://localhost:8080/"
        },
        "id": "6zeIXyWC0VOD",
        "outputId": "ec732ff4-1941-404e-b5ec-07c7b87d0bd6"
      },
      "execution_count": 27,
      "outputs": [
        {
          "output_type": "execute_result",
          "data": {
            "text/plain": [
              "array([[  1.      ,   0.      ,   0.      ,   0.      ,   0.      ],\n",
              "       [  0.      ,   1.      ,   0.      ,   0.      ,   0.      ],\n",
              "       [  0.      ,   0.      ,   1.      ,   0.      ,   0.      ],\n",
              "       [  0.      ,   0.      , -12.194598,   1.      ,   0.      ],\n",
              "       [  0.      ,   0.      , -12.00237 ,   0.      ,   1.      ]])"
            ]
          },
          "metadata": {},
          "execution_count": 27
        }
      ]
    },
    {
      "cell_type": "code",
      "source": [
        "linalg.inv(L2)"
      ],
      "metadata": {
        "colab": {
          "base_uri": "https://localhost:8080/"
        },
        "id": "5YW6YlX70XkT",
        "outputId": "1300c545-6198-4743-9a59-3a889c59bd0c"
      },
      "execution_count": 28,
      "outputs": [
        {
          "output_type": "execute_result",
          "data": {
            "text/plain": [
              "array([[ 1.      ,  0.      ,  0.      ,  0.      ,  0.      ],\n",
              "       [ 0.      ,  1.      ,  0.      ,  0.      ,  0.      ],\n",
              "       [-0.      , -0.      ,  1.      , -0.      , -0.      ],\n",
              "       [-0.      , -0.      , 12.194598,  1.      , -0.      ],\n",
              "       [ 0.      ,  0.      , 12.00237 ,  0.      ,  1.      ]])"
            ]
          },
          "metadata": {},
          "execution_count": 28
        }
      ]
    },
    {
      "cell_type": "code",
      "source": [
        "linalg.inv(L0)@linalg.inv(L1)@linalg.inv(L2)"
      ],
      "metadata": {
        "colab": {
          "base_uri": "https://localhost:8080/"
        },
        "id": "fvKCvNIv0YfL",
        "outputId": "cba864e8-b0e5-4624-d37e-054939de3f22"
      },
      "execution_count": 29,
      "outputs": [
        {
          "output_type": "execute_result",
          "data": {
            "text/plain": [
              "array([[ 1.      ,  0.      , -0.      , -0.      , -0.      ],\n",
              "       [ 0.291022,  1.      , -0.      , -0.      , -0.      ],\n",
              "       [-1.180434,  1.318754,  1.      , -0.      ,  0.      ],\n",
              "       [-0.941068, -0.176805, 12.194598,  1.      ,  0.      ],\n",
              "       [ 1.008746, -0.471764, 12.00237 ,  0.      ,  1.      ]])"
            ]
          },
          "metadata": {},
          "execution_count": 29
        }
      ]
    },
    {
      "cell_type": "code",
      "source": [],
      "metadata": {
        "id": "G8reqIcY0b1r"
      },
      "execution_count": null,
      "outputs": []
    }
  ]
}