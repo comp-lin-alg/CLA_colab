{
  "nbformat": 4,
  "nbformat_minor": 0,
  "metadata": {
    "colab": {
      "provenance": [],
      "authorship_tag": "ABX9TyM3Re6aZ/WFY3ecMsqhK1il",
      "include_colab_link": true
    },
    "kernelspec": {
      "name": "python3",
      "display_name": "Python 3"
    },
    "language_info": {
      "name": "python"
    }
  },
  "cells": [
    {
      "cell_type": "markdown",
      "metadata": {
        "id": "view-in-github",
        "colab_type": "text"
      },
      "source": [
        "<a href=\"https://colab.research.google.com/github/comp-lin-alg/CLA_colab/blob/main/perms_and_Ls.ipynb\" target=\"_parent\"><img src=\"https://colab.research.google.com/assets/colab-badge.svg\" alt=\"Open In Colab\"/></a>"
      ]
    },
    {
      "cell_type": "code",
      "execution_count": 1,
      "metadata": {
        "id": "1x81iqxVAL8N"
      },
      "outputs": [],
      "source": [
        "from numpy import *; from scipy import linalg as slinalg"
      ]
    },
    {
      "cell_type": "code",
      "source": [
        "set_printoptions(precision=6, suppress=True)"
      ],
      "metadata": {
        "id": "98aPjmAZAggM"
      },
      "execution_count": 2,
      "outputs": []
    },
    {
      "cell_type": "code",
      "source": [
        "p = random.permutation(10); p"
      ],
      "metadata": {
        "colab": {
          "base_uri": "https://localhost:8080/"
        },
        "id": "L-yWYcsBAmXM",
        "outputId": "d5be178c-44b2-437a-c38c-18aceb48e1b4"
      },
      "execution_count": 3,
      "outputs": [
        {
          "output_type": "execute_result",
          "data": {
            "text/plain": [
              "array([7, 3, 9, 1, 6, 8, 4, 0, 2, 5])"
            ]
          },
          "metadata": {},
          "execution_count": 3
        }
      ]
    },
    {
      "cell_type": "code",
      "source": [
        "pinv = empty_like(p); pinv[p] = arange(10, dtype=int); pinv"
      ],
      "metadata": {
        "colab": {
          "base_uri": "https://localhost:8080/"
        },
        "id": "N2vbOdgWBp2a",
        "outputId": "ede7cbb2-a556-4417-8a76-6635bc464681"
      },
      "execution_count": 4,
      "outputs": [
        {
          "output_type": "execute_result",
          "data": {
            "text/plain": [
              "array([7, 3, 8, 1, 6, 9, 4, 0, 5, 2])"
            ]
          },
          "metadata": {},
          "execution_count": 4
        }
      ]
    },
    {
      "cell_type": "code",
      "source": [
        "x = random.randn(10); x"
      ],
      "metadata": {
        "colab": {
          "base_uri": "https://localhost:8080/"
        },
        "id": "jZBEzsmXDMjd",
        "outputId": "1396a733-ea82-4e77-972c-7459890cf62d"
      },
      "execution_count": 5,
      "outputs": [
        {
          "output_type": "execute_result",
          "data": {
            "text/plain": [
              "array([-0.383601, -0.051311,  1.002392, -1.397828,  0.134009,  0.54183 ,\n",
              "       -0.179363, -0.828772,  0.09754 , -0.272029])"
            ]
          },
          "metadata": {},
          "execution_count": 5
        }
      ]
    },
    {
      "cell_type": "markdown",
      "source": [
        "(Px)_i = x_{p_i}"
      ],
      "metadata": {
        "id": "sCGd1bFbD2Mi"
      }
    },
    {
      "cell_type": "code",
      "source": [
        "x[p]"
      ],
      "metadata": {
        "colab": {
          "base_uri": "https://localhost:8080/"
        },
        "id": "6hJxsTSMDRD4",
        "outputId": "0a982b1d-0979-4d9a-9e48-3528705e42b6"
      },
      "execution_count": 6,
      "outputs": [
        {
          "output_type": "execute_result",
          "data": {
            "text/plain": [
              "array([-0.828772, -1.397828, -0.272029, -0.051311, -0.179363,  0.09754 ,\n",
              "        0.134009, -0.383601,  1.002392,  0.54183 ])"
            ]
          },
          "metadata": {},
          "execution_count": 6
        }
      ]
    },
    {
      "cell_type": "code",
      "source": [
        "I = eye(10, dtype=int); P = I[p,:]; P"
      ],
      "metadata": {
        "colab": {
          "base_uri": "https://localhost:8080/"
        },
        "id": "dmei9M5-BCVE",
        "outputId": "11247812-1048-4f7e-900a-23494089b429"
      },
      "execution_count": 7,
      "outputs": [
        {
          "output_type": "execute_result",
          "data": {
            "text/plain": [
              "array([[0, 0, 0, 0, 0, 0, 0, 1, 0, 0],\n",
              "       [0, 0, 0, 1, 0, 0, 0, 0, 0, 0],\n",
              "       [0, 0, 0, 0, 0, 0, 0, 0, 0, 1],\n",
              "       [0, 1, 0, 0, 0, 0, 0, 0, 0, 0],\n",
              "       [0, 0, 0, 0, 0, 0, 1, 0, 0, 0],\n",
              "       [0, 0, 0, 0, 0, 0, 0, 0, 1, 0],\n",
              "       [0, 0, 0, 0, 1, 0, 0, 0, 0, 0],\n",
              "       [1, 0, 0, 0, 0, 0, 0, 0, 0, 0],\n",
              "       [0, 0, 1, 0, 0, 0, 0, 0, 0, 0],\n",
              "       [0, 0, 0, 0, 0, 1, 0, 0, 0, 0]])"
            ]
          },
          "metadata": {},
          "execution_count": 7
        }
      ]
    },
    {
      "cell_type": "code",
      "source": [
        "linalg.norm(P@x - x[p], ord=inf)"
      ],
      "metadata": {
        "colab": {
          "base_uri": "https://localhost:8080/"
        },
        "id": "RfSDaenkBFxZ",
        "outputId": "56080c94-9618-491d-a13c-6d8fea4e8e32"
      },
      "execution_count": 8,
      "outputs": [
        {
          "output_type": "execute_result",
          "data": {
            "text/plain": [
              "0.0"
            ]
          },
          "metadata": {},
          "execution_count": 8
        }
      ]
    },
    {
      "cell_type": "code",
      "source": [
        "A = random.randn(100, 100)"
      ],
      "metadata": {
        "id": "pZXRZZvSE5rg"
      },
      "execution_count": 9,
      "outputs": []
    },
    {
      "cell_type": "code",
      "source": [
        "P, L, U = slinalg.lu(A)"
      ],
      "metadata": {
        "id": "6OjZo0DqFiYE"
      },
      "execution_count": 10,
      "outputs": []
    },
    {
      "cell_type": "code",
      "source": [
        "linalg.norm(A-P@L@U, ord=inf)"
      ],
      "metadata": {
        "colab": {
          "base_uri": "https://localhost:8080/"
        },
        "id": "4ww-vYX9FyoC",
        "outputId": "bcd95d7d-5e88-405d-85d9-785a931c9c46"
      },
      "execution_count": 11,
      "outputs": [
        {
          "output_type": "execute_result",
          "data": {
            "text/plain": [
              "6.187411694114076e-14"
            ]
          },
          "metadata": {},
          "execution_count": 11
        }
      ]
    },
    {
      "cell_type": "code",
      "source": [
        "linalg.norm(U, ord=inf)/linalg.norm(A, ord=inf)"
      ],
      "metadata": {
        "colab": {
          "base_uri": "https://localhost:8080/"
        },
        "id": "_eo3gIAgGI7y",
        "outputId": "e0f61737-6ecc-428e-a3cf-7a66e26825f1"
      },
      "execution_count": 12,
      "outputs": [
        {
          "output_type": "execute_result",
          "data": {
            "text/plain": [
              "2.90990512785039"
            ]
          },
          "metadata": {},
          "execution_count": 12
        }
      ]
    },
    {
      "cell_type": "code",
      "source": [
        "def get_L(k,n):\n",
        "  e = zeros(n,)\n",
        "  e[k] = 1\n",
        "  l = zeros(n,)\n",
        "  l[k+1:] = random.randn(*(l[k+1:].shape))\n",
        "  return eye(n) - outer(l, e)"
      ],
      "metadata": {
        "id": "IHSh4OESHO9A"
      },
      "execution_count": 13,
      "outputs": []
    },
    {
      "cell_type": "code",
      "source": [
        "get_L(3,5)"
      ],
      "metadata": {
        "colab": {
          "base_uri": "https://localhost:8080/"
        },
        "id": "_4dlCF9NHo2a",
        "outputId": "37c9da1c-8c39-4d8b-9f7b-4f81bd7eeb39"
      },
      "execution_count": 14,
      "outputs": [
        {
          "output_type": "execute_result",
          "data": {
            "text/plain": [
              "array([[1.      , 0.      , 0.      , 0.      , 0.      ],\n",
              "       [0.      , 1.      , 0.      , 0.      , 0.      ],\n",
              "       [0.      , 0.      , 1.      , 0.      , 0.      ],\n",
              "       [0.      , 0.      , 0.      , 1.      , 0.      ],\n",
              "       [0.      , 0.      , 0.      , 0.295373, 1.      ]])"
            ]
          },
          "metadata": {},
          "execution_count": 14
        }
      ]
    },
    {
      "cell_type": "code",
      "source": [
        "L1 = get_L(0,5); L1"
      ],
      "metadata": {
        "colab": {
          "base_uri": "https://localhost:8080/"
        },
        "id": "889qWGCTH59M",
        "outputId": "1b24f12f-147a-4c4b-af9b-ffb1e1af8ccc"
      },
      "execution_count": 15,
      "outputs": [
        {
          "output_type": "execute_result",
          "data": {
            "text/plain": [
              "array([[ 1.      ,  0.      ,  0.      ,  0.      ,  0.      ],\n",
              "       [-0.766675,  1.      ,  0.      ,  0.      ,  0.      ],\n",
              "       [-0.405006,  0.      ,  1.      ,  0.      ,  0.      ],\n",
              "       [ 0.581654,  0.      ,  0.      ,  1.      ,  0.      ],\n",
              "       [-0.113716,  0.      ,  0.      ,  0.      ,  1.      ]])"
            ]
          },
          "metadata": {},
          "execution_count": 15
        }
      ]
    },
    {
      "cell_type": "code",
      "source": [
        "p1 = arange(5, dtype=int); p1[[0,3]] = p1[[3,0]]; p1"
      ],
      "metadata": {
        "colab": {
          "base_uri": "https://localhost:8080/"
        },
        "id": "o3S2wQn2IQ3r",
        "outputId": "2ac8beba-e863-41b6-c2bb-1785efa4e9a8"
      },
      "execution_count": 16,
      "outputs": [
        {
          "output_type": "execute_result",
          "data": {
            "text/plain": [
              "array([3, 1, 2, 0, 4])"
            ]
          },
          "metadata": {},
          "execution_count": 16
        }
      ]
    },
    {
      "cell_type": "code",
      "source": [
        "L1[:, p1]"
      ],
      "metadata": {
        "colab": {
          "base_uri": "https://localhost:8080/"
        },
        "id": "aPI19AvlIbnU",
        "outputId": "f6174cb9-6799-49e3-e3b2-c299e7dd5b87"
      },
      "execution_count": 17,
      "outputs": [
        {
          "output_type": "execute_result",
          "data": {
            "text/plain": [
              "array([[ 0.      ,  0.      ,  0.      ,  1.      ,  0.      ],\n",
              "       [ 0.      ,  1.      ,  0.      , -0.766675,  0.      ],\n",
              "       [ 0.      ,  0.      ,  1.      , -0.405006,  0.      ],\n",
              "       [ 1.      ,  0.      ,  0.      ,  0.581654,  0.      ],\n",
              "       [ 0.      ,  0.      ,  0.      , -0.113716,  1.      ]])"
            ]
          },
          "metadata": {},
          "execution_count": 17
        }
      ]
    },
    {
      "cell_type": "code",
      "source": [
        "x = random.randn(5)"
      ],
      "metadata": {
        "id": "ek549l1zI5s8"
      },
      "execution_count": 18,
      "outputs": []
    },
    {
      "cell_type": "code",
      "source": [
        "L1[:, p1]@x"
      ],
      "metadata": {
        "colab": {
          "base_uri": "https://localhost:8080/"
        },
        "id": "GYD3QDvmJatx",
        "outputId": "a887c566-4a3e-4e2a-c744-4bf53ee1dec9"
      },
      "execution_count": 19,
      "outputs": [
        {
          "output_type": "execute_result",
          "data": {
            "text/plain": [
              "array([-0.965324,  1.122928,  1.921278, -0.435031,  0.239732])"
            ]
          },
          "metadata": {},
          "execution_count": 19
        }
      ]
    },
    {
      "cell_type": "code",
      "source": [
        "L1@x[p1]"
      ],
      "metadata": {
        "colab": {
          "base_uri": "https://localhost:8080/"
        },
        "id": "C5any2SDJcyb",
        "outputId": "1f545a32-1a7b-4ea5-cebb-758e8d28d082"
      },
      "execution_count": 20,
      "outputs": [
        {
          "output_type": "execute_result",
          "data": {
            "text/plain": [
              "array([-0.965324,  1.122928,  1.921278, -0.435031,  0.239732])"
            ]
          },
          "metadata": {},
          "execution_count": 20
        }
      ]
    },
    {
      "cell_type": "code",
      "source": [
        "L2 = get_L(1,5); L2"
      ],
      "metadata": {
        "colab": {
          "base_uri": "https://localhost:8080/"
        },
        "id": "5yx6coSYJen4",
        "outputId": "9ba27dcb-b96d-424c-b9f2-eae8472cea0e"
      },
      "execution_count": 21,
      "outputs": [
        {
          "output_type": "execute_result",
          "data": {
            "text/plain": [
              "array([[ 1.      ,  0.      ,  0.      ,  0.      ,  0.      ],\n",
              "       [ 0.      ,  1.      ,  0.      ,  0.      ,  0.      ],\n",
              "       [ 0.      ,  0.514566,  1.      ,  0.      ,  0.      ],\n",
              "       [ 0.      , -1.066338,  0.      ,  1.      ,  0.      ],\n",
              "       [ 0.      ,  1.613909,  0.      ,  0.      ,  1.      ]])"
            ]
          },
          "metadata": {},
          "execution_count": 21
        }
      ]
    },
    {
      "cell_type": "code",
      "source": [
        "p2 = arange(5, dtype=int); p2[[1,4]] = p2[[4,1]]; p2"
      ],
      "metadata": {
        "colab": {
          "base_uri": "https://localhost:8080/"
        },
        "id": "4Vv-3_ABJ0NB",
        "outputId": "372e30cc-7e7b-47e4-e297-2d3015a83c4b"
      },
      "execution_count": 22,
      "outputs": [
        {
          "output_type": "execute_result",
          "data": {
            "text/plain": [
              "array([0, 4, 2, 3, 1])"
            ]
          },
          "metadata": {},
          "execution_count": 22
        }
      ]
    },
    {
      "cell_type": "code",
      "source": [
        "p2[p2]"
      ],
      "metadata": {
        "colab": {
          "base_uri": "https://localhost:8080/"
        },
        "id": "-noYCsclJ9UZ",
        "outputId": "6e98576e-02ae-43c9-c92e-ac6aff4fbeca"
      },
      "execution_count": 23,
      "outputs": [
        {
          "output_type": "execute_result",
          "data": {
            "text/plain": [
              "array([0, 1, 2, 3, 4])"
            ]
          },
          "metadata": {},
          "execution_count": 23
        }
      ]
    },
    {
      "cell_type": "code",
      "source": [
        "L1p = zeros_like(L1); L1p[p2, :] = L1[:, :]; L1p"
      ],
      "metadata": {
        "colab": {
          "base_uri": "https://localhost:8080/"
        },
        "id": "wDSYyhccKwYL",
        "outputId": "f3329c69-748e-4a0f-a034-f5c1197cada8"
      },
      "execution_count": 24,
      "outputs": [
        {
          "output_type": "execute_result",
          "data": {
            "text/plain": [
              "array([[ 1.      ,  0.      ,  0.      ,  0.      ,  0.      ],\n",
              "       [-0.113716,  0.      ,  0.      ,  0.      ,  1.      ],\n",
              "       [-0.405006,  0.      ,  1.      ,  0.      ,  0.      ],\n",
              "       [ 0.581654,  0.      ,  0.      ,  1.      ,  0.      ],\n",
              "       [-0.766675,  1.      ,  0.      ,  0.      ,  0.      ]])"
            ]
          },
          "metadata": {},
          "execution_count": 24
        }
      ]
    },
    {
      "cell_type": "code",
      "source": [
        "L1p@x"
      ],
      "metadata": {
        "colab": {
          "base_uri": "https://localhost:8080/"
        },
        "id": "w0snWUAOMvJ6",
        "outputId": "a9c6812e-6fe0-468d-ee7e-460b96fb19ab"
      },
      "execution_count": 25,
      "outputs": [
        {
          "output_type": "execute_result",
          "data": {
            "text/plain": [
              "array([ 0.126454,  0.115579,  1.479102, -0.891772,  0.285889])"
            ]
          },
          "metadata": {},
          "execution_count": 25
        }
      ]
    },
    {
      "cell_type": "code",
      "source": [
        "(L1@x)[p2]"
      ],
      "metadata": {
        "colab": {
          "base_uri": "https://localhost:8080/"
        },
        "id": "K8A8S9cJM6E6",
        "outputId": "1123bcf9-1db3-4b15-e68c-8572207ceecc"
      },
      "execution_count": 26,
      "outputs": [
        {
          "output_type": "execute_result",
          "data": {
            "text/plain": [
              "array([ 0.126454,  0.115579,  1.479102, -0.891772,  0.285889])"
            ]
          },
          "metadata": {},
          "execution_count": 26
        }
      ]
    },
    {
      "cell_type": "code",
      "source": [
        "L1p = L1[:, p2]; L1p"
      ],
      "metadata": {
        "colab": {
          "base_uri": "https://localhost:8080/"
        },
        "id": "nO1hOgN-KqY0",
        "outputId": "c91b12ad-1075-44cb-991a-fbd75cea6c90"
      },
      "execution_count": 27,
      "outputs": [
        {
          "output_type": "execute_result",
          "data": {
            "text/plain": [
              "array([[ 1.      ,  0.      ,  0.      ,  0.      ,  0.      ],\n",
              "       [-0.766675,  0.      ,  0.      ,  0.      ,  1.      ],\n",
              "       [-0.405006,  0.      ,  1.      ,  0.      ,  0.      ],\n",
              "       [ 0.581654,  0.      ,  0.      ,  1.      ,  0.      ],\n",
              "       [-0.113716,  1.      ,  0.      ,  0.      ,  0.      ]])"
            ]
          },
          "metadata": {},
          "execution_count": 27
        }
      ]
    },
    {
      "cell_type": "code",
      "source": [
        "L1p@x"
      ],
      "metadata": {
        "colab": {
          "base_uri": "https://localhost:8080/"
        },
        "id": "Lo6Yqp_wMIKe",
        "outputId": "7a52829c-00af-4bf1-cacf-0c05bb935497"
      },
      "execution_count": 28,
      "outputs": [
        {
          "output_type": "execute_result",
          "data": {
            "text/plain": [
              "array([ 0.126454,  0.03301 ,  1.479102, -0.891772,  0.368459])"
            ]
          },
          "metadata": {},
          "execution_count": 28
        }
      ]
    },
    {
      "cell_type": "code",
      "source": [
        "L1@(x[p2])"
      ],
      "metadata": {
        "colab": {
          "base_uri": "https://localhost:8080/"
        },
        "id": "ldcOXn5IMLfo",
        "outputId": "c8f4134f-552f-48b6-9c9a-247b031812e7"
      },
      "execution_count": 29,
      "outputs": [
        {
          "output_type": "execute_result",
          "data": {
            "text/plain": [
              "array([ 0.126454,  0.03301 ,  1.479102, -0.891772,  0.368459])"
            ]
          },
          "metadata": {},
          "execution_count": 29
        }
      ]
    },
    {
      "cell_type": "code",
      "source": [
        "L1pp = zeros_like(L1p); L1pp[p2, :] = L1p[:, :]; L1pp"
      ],
      "metadata": {
        "colab": {
          "base_uri": "https://localhost:8080/"
        },
        "id": "tUrUIa6dLYK1",
        "outputId": "3175a714-69b0-412d-8030-0d1305bf629b"
      },
      "execution_count": 31,
      "outputs": [
        {
          "output_type": "execute_result",
          "data": {
            "text/plain": [
              "array([[ 1.      ,  0.      ,  0.      ,  0.      ,  0.      ],\n",
              "       [-0.113716,  1.      ,  0.      ,  0.      ,  0.      ],\n",
              "       [-0.405006,  0.      ,  1.      ,  0.      ,  0.      ],\n",
              "       [ 0.581654,  0.      ,  0.      ,  1.      ,  0.      ],\n",
              "       [-0.766675,  0.      ,  0.      ,  0.      ,  1.      ]])"
            ]
          },
          "metadata": {},
          "execution_count": 31
        }
      ]
    },
    {
      "cell_type": "code",
      "source": [
        "L1"
      ],
      "metadata": {
        "colab": {
          "base_uri": "https://localhost:8080/"
        },
        "id": "hJNlVhbNQ5aQ",
        "outputId": "fee3c4a3-8ebb-4c18-8b3a-4ee15dd548c5"
      },
      "execution_count": 39,
      "outputs": [
        {
          "output_type": "execute_result",
          "data": {
            "text/plain": [
              "array([[ 1.      ,  0.      ,  0.      ,  0.      ,  0.      ],\n",
              "       [-0.766675,  1.      ,  0.      ,  0.      ,  0.      ],\n",
              "       [-0.405006,  0.      ,  1.      ,  0.      ,  0.      ],\n",
              "       [ 0.581654,  0.      ,  0.      ,  1.      ,  0.      ],\n",
              "       [-0.113716,  0.      ,  0.      ,  0.      ,  1.      ]])"
            ]
          },
          "metadata": {},
          "execution_count": 39
        }
      ]
    },
    {
      "cell_type": "code",
      "source": [
        "L2p = L2[:, p2]; L2pp = zeros_like(L2); L2pp[p2, :] = L2p; L2pp"
      ],
      "metadata": {
        "colab": {
          "base_uri": "https://localhost:8080/"
        },
        "id": "kbtJ3dIkRlLH",
        "outputId": "7d02f435-4be2-4891-d25d-c757d1f85985"
      },
      "execution_count": 41,
      "outputs": [
        {
          "output_type": "execute_result",
          "data": {
            "text/plain": [
              "array([[ 1.      ,  0.      ,  0.      ,  0.      ,  0.      ],\n",
              "       [ 0.      ,  1.      ,  0.      ,  0.      ,  1.613909],\n",
              "       [ 0.      ,  0.      ,  1.      ,  0.      ,  0.514566],\n",
              "       [ 0.      ,  0.      ,  0.      ,  1.      , -1.066338],\n",
              "       [ 0.      ,  0.      ,  0.      ,  0.      ,  1.      ]])"
            ]
          },
          "metadata": {},
          "execution_count": 41
        }
      ]
    },
    {
      "cell_type": "code",
      "source": [],
      "metadata": {
        "id": "ezn5wah-SjbV"
      },
      "execution_count": null,
      "outputs": []
    }
  ]
}