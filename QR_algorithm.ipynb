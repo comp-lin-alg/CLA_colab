{
  "nbformat": 4,
  "nbformat_minor": 0,
  "metadata": {
    "colab": {
      "provenance": [],
      "authorship_tag": "ABX9TyMOqDMSpSiOZtXlxZ5sgYex",
      "include_colab_link": true
    },
    "kernelspec": {
      "name": "python3",
      "display_name": "Python 3"
    },
    "language_info": {
      "name": "python"
    }
  },
  "cells": [
    {
      "cell_type": "markdown",
      "metadata": {
        "id": "view-in-github",
        "colab_type": "text"
      },
      "source": [
        "<a href=\"https://colab.research.google.com/github/comp-lin-alg/CLA_colab/blob/main/QR_algorithm.ipynb\" target=\"_parent\"><img src=\"https://colab.research.google.com/assets/colab-badge.svg\" alt=\"Open In Colab\"/></a>"
      ]
    },
    {
      "cell_type": "code",
      "execution_count": 1,
      "metadata": {
        "id": "W3I3cQB6ErRV"
      },
      "outputs": [],
      "source": [
        "from numpy import *; import scipy.linalg as sl"
      ]
    },
    {
      "cell_type": "code",
      "source": [
        "def QRits(B, n):\n",
        "  for i in range(n):\n",
        "    Q, R = linalg.qr(B)\n",
        "    B = R@Q\n",
        "  return B"
      ],
      "metadata": {
        "id": "CWqiONxREvLI"
      },
      "execution_count": 2,
      "outputs": []
    },
    {
      "cell_type": "code",
      "source": [
        "q, _ = linalg.qr(random.randn(50, 50))"
      ],
      "metadata": {
        "id": "k03wLMDhE6S9"
      },
      "execution_count": 3,
      "outputs": []
    },
    {
      "cell_type": "code",
      "source": [
        "d = diag(random.rand(50))"
      ],
      "metadata": {
        "id": "nzEseBudFILV"
      },
      "execution_count": 4,
      "outputs": []
    },
    {
      "cell_type": "code",
      "source": [
        "A = q.T@d@q"
      ],
      "metadata": {
        "id": "qDfas7ZFFLK1"
      },
      "execution_count": 5,
      "outputs": []
    },
    {
      "cell_type": "code",
      "source": [
        "import matplotlib.pyplot as pp"
      ],
      "metadata": {
        "id": "7e-V86xHFZ3k"
      },
      "execution_count": 6,
      "outputs": []
    },
    {
      "cell_type": "code",
      "source": [
        "pp.matshow(A)"
      ],
      "metadata": {
        "colab": {
          "base_uri": "https://localhost:8080/",
          "height": 292
        },
        "id": "lNeDjyYwFm7E",
        "outputId": "1af093be-6957-4648-a904-2f0ce82f019d"
      },
      "execution_count": 7,
      "outputs": [
        {
          "output_type": "execute_result",
          "data": {
            "text/plain": [
              "<matplotlib.image.AxesImage at 0x7f423c67d4f0>"
            ]
          },
          "metadata": {},
          "execution_count": 7
        },
        {
          "output_type": "display_data",
          "data": {
            "text/plain": [
              "<Figure size 288x288 with 1 Axes>"
            ],
            "image/png": "[encoded data removed]"
          },
          "metadata": {
            "needs_background": "light"
          }
        }
      ]
    },
    {
      "cell_type": "code",
      "source": [
        "A = QRits(A, n=1000); pp.matshow(A)"
      ],
      "metadata": {
        "colab": {
          "base_uri": "https://localhost:8080/",
          "height": 292
        },
        "id": "Gx-OEMygFn7k",
        "outputId": "09651161-b118-4e41-b08b-b590bb3491ac"
      },
      "execution_count": 8,
      "outputs": [
        {
          "output_type": "execute_result",
          "data": {
            "text/plain": [
              "<matplotlib.image.AxesImage at 0x7f423c1c7bb0>"
            ]
          },
          "metadata": {},
          "execution_count": 8
        },
        {
          "output_type": "display_data",
          "data": {
            "text/plain": [
              "<Figure size 288x288 with 1 Axes>"
            ],
            "image/png": "[encoded data removed]"
          },
          "metadata": {
            "needs_background": "light"
          }
        }
      ]
    },
    {
      "cell_type": "code",
      "source": [
        "diag(A, k=2)"
      ],
      "metadata": {
        "colab": {
          "base_uri": "https://localhost:8080/"
        },
        "id": "f91xsf59G40M",
        "outputId": "5caf1c1d-de0a-47a2-82f6-9bc7ea636588"
      },
      "execution_count": 9,
      "outputs": [
        {
          "output_type": "execute_result",
          "data": {
            "text/plain": [
              "array([-5.14717749e-13, -8.24628566e-13, -5.61758550e-17, -1.90460737e-20,\n",
              "        1.06924045e-16,  1.71044003e-16, -2.92827229e-17, -4.04367873e-17,\n",
              "        8.52829219e-17,  6.27478423e-11, -8.25376075e-17, -5.06044877e-18,\n",
              "        8.05297246e-17,  8.09961107e-17, -1.95970350e-17,  2.77321093e-18,\n",
              "       -1.46312318e-14, -1.06908693e-07, -4.98064598e-11,  2.63072318e-17,\n",
              "       -5.88689638e-17, -2.08579178e-17, -9.08557278e-18,  1.14956679e-12,\n",
              "       -1.44344766e-12,  1.15858835e-05, -7.91301366e-18,  1.36452742e-18,\n",
              "        1.54213873e-17, -5.84918980e-17,  1.10422680e-05,  1.26303317e-08,\n",
              "       -2.25567403e-17,  2.75835477e-17, -7.27906466e-18, -2.12312127e-17,\n",
              "       -1.06625694e-17, -3.42777462e-17,  6.20467367e-18, -1.89727763e-17,\n",
              "        4.23982269e-17, -3.32514125e-17, -7.11363112e-17,  3.31769379e-17,\n",
              "        4.05485954e-17, -4.01566287e-17, -1.98334316e-17,  9.45211922e-19])"
            ]
          },
          "metadata": {},
          "execution_count": 9
        }
      ]
    },
    {
      "cell_type": "code",
      "source": [
        "linalg.norm(A - diag(diag(A)))"
      ],
      "metadata": {
        "colab": {
          "base_uri": "https://localhost:8080/"
        },
        "id": "Qmg-bdkaFsrL",
        "outputId": "564a1531-3cea-4328-e89d-d6c41458f146"
      },
      "execution_count": 10,
      "outputs": [
        {
          "output_type": "execute_result",
          "data": {
            "text/plain": [
              "0.0004838413711220772"
            ]
          },
          "metadata": {},
          "execution_count": 10
        }
      ]
    },
    {
      "cell_type": "code",
      "source": [
        "q, _ = linalg.qr(random.randn(50, 50)); _, r = linalg.qr(random.randn(50,50)); A = q.T@r@q"
      ],
      "metadata": {
        "id": "468o-5xLGTyj"
      },
      "execution_count": 27,
      "outputs": []
    },
    {
      "cell_type": "code",
      "source": [
        "A = sl.hessenberg(A)"
      ],
      "metadata": {
        "id": "hPLjuJX-Hd11"
      },
      "execution_count": 28,
      "outputs": []
    },
    {
      "cell_type": "code",
      "source": [
        "pp.matshow(A)"
      ],
      "metadata": {
        "colab": {
          "base_uri": "https://localhost:8080/",
          "height": 292
        },
        "id": "rbcqwtUCHfyg",
        "outputId": "f7c8e1fc-6e8e-4139-c33d-e36427c0c1eb"
      },
      "execution_count": 29,
      "outputs": [
        {
          "output_type": "execute_result",
          "data": {
            "text/plain": [
              "<matplotlib.image.AxesImage at 0x7f423ac5dc40>"
            ]
          },
          "metadata": {},
          "execution_count": 29
        },
        {
          "output_type": "display_data",
          "data": {
            "text/plain": [
              "<Figure size 288x288 with 1 Axes>"
            ],
            "image/png": "[encoded data removed]"
          },
          "metadata": {
            "needs_background": "light"
          }
        }
      ]
    },
    {
      "cell_type": "code",
      "source": [
        "A = QRits(A, 1)"
      ],
      "metadata": {
        "id": "OJLTtoOTHh3g"
      },
      "execution_count": 30,
      "outputs": []
    },
    {
      "cell_type": "code",
      "source": [
        "linalg.norm(A - sl.hessenberg(A))"
      ],
      "metadata": {
        "colab": {
          "base_uri": "https://localhost:8080/"
        },
        "id": "WpccsP7VHoKo",
        "outputId": "bdaf7f38-7497-4bba-aa81-d21f4b466801"
      },
      "execution_count": 31,
      "outputs": [
        {
          "output_type": "execute_result",
          "data": {
            "text/plain": [
              "0.0"
            ]
          },
          "metadata": {},
          "execution_count": 31
        }
      ]
    },
    {
      "cell_type": "code",
      "source": [
        "pp.matshow(A)"
      ],
      "metadata": {
        "colab": {
          "base_uri": "https://localhost:8080/",
          "height": 292
        },
        "id": "oj6tx33fHqFA",
        "outputId": "80562aaf-349a-4aed-e081-7a496c64d18a"
      },
      "execution_count": 32,
      "outputs": [
        {
          "output_type": "execute_result",
          "data": {
            "text/plain": [
              "<matplotlib.image.AxesImage at 0x7f423ac3a9d0>"
            ]
          },
          "metadata": {},
          "execution_count": 32
        },
        {
          "output_type": "display_data",
          "data": {
            "text/plain": [
              "<Figure size 288x288 with 1 Axes>"
            ],
            "image/png": "[encoded data removed]"
          },
          "metadata": {
            "needs_background": "light"
          }
        }
      ]
    },
    {
      "cell_type": "code",
      "source": [
        "A = QRits(A, 100000)"
      ],
      "metadata": {
        "id": "LnJQi_FVHt6Q"
      },
      "execution_count": 33,
      "outputs": []
    },
    {
      "cell_type": "code",
      "source": [
        "pp.matshow(A)"
      ],
      "metadata": {
        "colab": {
          "base_uri": "https://localhost:8080/",
          "height": 292
        },
        "id": "baLGlqAhH0CQ",
        "outputId": "23f09abf-a7e8-40b3-b1b3-c0bd4c936c28"
      },
      "execution_count": 34,
      "outputs": [
        {
          "output_type": "execute_result",
          "data": {
            "text/plain": [
              "<matplotlib.image.AxesImage at 0x7f423ac11520>"
            ]
          },
          "metadata": {},
          "execution_count": 34
        },
        {
          "output_type": "display_data",
          "data": {
            "text/plain": [
              "<Figure size 288x288 with 1 Axes>"
            ],
            "image/png": "[encoded data removed]"
          },
          "metadata": {
            "needs_background": "light"
          }
        }
      ]
    },
    {
      "cell_type": "code",
      "source": [
        "diag(A, k=-1).max()"
      ],
      "metadata": {
        "colab": {
          "base_uri": "https://localhost:8080/"
        },
        "id": "QLwrcL64H08o",
        "outputId": "bfe4baf1-b8b4-4f52-cdfa-f065dffde57e"
      },
      "execution_count": 36,
      "outputs": [
        {
          "output_type": "execute_result",
          "data": {
            "text/plain": [
              "1.0270638076186104e-36"
            ]
          },
          "metadata": {},
          "execution_count": 36
        }
      ]
    },
    {
      "cell_type": "code",
      "source": [
        "diag(A)"
      ],
      "metadata": {
        "colab": {
          "base_uri": "https://localhost:8080/"
        },
        "id": "-4qmxjl-ICmH",
        "outputId": "6ec9d123-679e-4a49-cea1-b67db6366e99"
      },
      "execution_count": 37,
      "outputs": [
        {
          "output_type": "execute_result",
          "data": {
            "text/plain": [
              "array([-8.12180885, -7.48334656, -7.40456175,  7.35241802,  7.20544148,\n",
              "       -7.20460846,  6.96722542,  6.78905369,  6.67571226, -6.53592655,\n",
              "        6.43561811, -6.39037541,  6.35775141, -6.35231193, -6.24941415,\n",
              "        6.21952047, -5.90761245,  5.83609494,  5.72048633, -5.6514466 ,\n",
              "        5.61558049,  5.54616404,  5.40011926, -5.33664408,  5.03064746,\n",
              "        4.84722396, -4.79920582,  4.78654884, -4.64638763,  4.47049251,\n",
              "       -4.22833361, -4.14142035, -4.11210165, -3.94310316, -3.91767486,\n",
              "       -3.77372534,  3.72259689, -3.60241384,  3.45169947, -3.40569237,\n",
              "       -3.15610455, -3.03709613, -2.8572735 , -2.19437338,  2.13896265,\n",
              "       -1.98561733,  1.95550015,  1.94410463, -1.7288209 , -0.54741639])"
            ]
          },
          "metadata": {},
          "execution_count": 37
        }
      ]
    },
    {
      "cell_type": "code",
      "source": [
        "ee, _ = linalg.eig(A); ee"
      ],
      "metadata": {
        "colab": {
          "base_uri": "https://localhost:8080/"
        },
        "id": "OvwCU2R2IKev",
        "outputId": "18a29360-a7d8-488b-f048-d9979e9367d1"
      },
      "execution_count": 38,
      "outputs": [
        {
          "output_type": "execute_result",
          "data": {
            "text/plain": [
              "array([-8.12180885, -7.48334656, -7.40456175,  7.35241802,  7.20544147,\n",
              "       -7.20460845,  6.96722542,  6.78905369,  6.67571226, -6.53592655,\n",
              "        6.43561811, -6.39037541,  6.35775141, -6.35231193, -6.24941415,\n",
              "        6.21952047, -5.90761245,  5.83609494,  5.72048633, -5.6514466 ,\n",
              "        5.61558049,  5.54616404,  5.40011926, -5.33664408,  5.03064746,\n",
              "        4.84722396, -4.79920582,  4.78654884, -4.64638763,  4.47049251,\n",
              "       -4.22833361, -4.14142035, -4.11210165, -3.94310316, -3.91767486,\n",
              "       -3.77372534,  3.72259689, -3.60241384,  3.45169947, -3.40569237,\n",
              "       -3.15610455, -3.03709613, -2.8572735 , -2.19437338,  2.13896265,\n",
              "       -1.98561733,  1.95550015,  1.94410463, -1.7288209 , -0.54741639])"
            ]
          },
          "metadata": {},
          "execution_count": 38
        }
      ]
    },
    {
      "cell_type": "code",
      "source": [
        "A = random.randn(50, 50)"
      ],
      "metadata": {
        "id": "CnxoNLxlIMv3"
      },
      "execution_count": 39,
      "outputs": []
    },
    {
      "cell_type": "code",
      "source": [
        "A = sl.hessenberg(A)"
      ],
      "metadata": {
        "id": "oO6TxSQ3I6Ye"
      },
      "execution_count": 41,
      "outputs": []
    },
    {
      "cell_type": "code",
      "source": [
        "A = QRits(A, 100000)"
      ],
      "metadata": {
        "id": "9d5rBGghI8Jv"
      },
      "execution_count": 42,
      "outputs": []
    },
    {
      "cell_type": "code",
      "source": [
        "diag(A, k=-1).max()"
      ],
      "metadata": {
        "colab": {
          "base_uri": "https://localhost:8080/"
        },
        "id": "eF7HU2m0JDoO",
        "outputId": "9fef4745-861a-4663-b095-3b14f157a018"
      },
      "execution_count": 44,
      "outputs": [
        {
          "output_type": "execute_result",
          "data": {
            "text/plain": [
              "5.670725380408807"
            ]
          },
          "metadata": {},
          "execution_count": 44
        }
      ]
    },
    {
      "cell_type": "code",
      "source": [
        "ee, _ = linalg.eig(A); ee"
      ],
      "metadata": {
        "colab": {
          "base_uri": "https://localhost:8080/"
        },
        "id": "JfD2dioOJJMF",
        "outputId": "95e54f10-98e6-45b9-f0db-44a218fcfce6"
      },
      "execution_count": 45,
      "outputs": [
        {
          "output_type": "execute_result",
          "data": {
            "text/plain": [
              "array([ 1.42727355+7.28610226j,  1.42727355-7.28610226j,\n",
              "        5.95503059+3.82110983j,  5.95503059-3.82110983j,\n",
              "       -6.32112678+2.76713274j, -6.32112678-2.76713274j,\n",
              "       -4.50405758+5.04103679j, -4.50405758-5.04103679j,\n",
              "        1.88280176+5.94140852j,  1.88280176-5.94140852j,\n",
              "       -4.51425268+3.7370576j , -4.51425268-3.7370576j ,\n",
              "        5.54017009+1.49626675j,  5.54017009-1.49626675j,\n",
              "       -0.97604974+5.63338868j, -0.97604974-5.63338868j,\n",
              "       -5.67274848+0.j        , -5.158947  +2.06276369j,\n",
              "       -5.158947  -2.06276369j,  5.43281215+0.j        ,\n",
              "        4.54079772+2.76622958j,  4.54079772-2.76622958j,\n",
              "       -2.3185859 +4.77122184j, -2.3185859 -4.77122184j,\n",
              "        3.39138751+4.05836644j,  3.39138751-4.05836644j,\n",
              "        2.38998093+4.46744383j,  2.38998093-4.46744383j,\n",
              "       -2.77654838+4.08662218j, -2.77654838-4.08662218j,\n",
              "       -0.02010233+4.59704299j, -0.02010233-4.59704299j,\n",
              "        4.10465823+0.j        ,  3.1088881 +1.81715313j,\n",
              "        3.1088881 -1.81715313j, -0.89446352+2.76835784j,\n",
              "       -0.89446352-2.76835784j, -2.46359725+1.40416239j,\n",
              "       -2.46359725-1.40416239j, -2.71111588+0.j        ,\n",
              "       -1.67502391+1.66329095j, -1.67502391-1.66329095j,\n",
              "        1.20949123+1.84975219j,  1.20949123-1.84975219j,\n",
              "        1.93068781+0.75137j   ,  1.93068781-0.75137j   ,\n",
              "       -0.97587612+0.46183661j, -0.97587612-0.46183661j,\n",
              "        0.42394265+0.j        , -0.22244669+0.j        ])"
            ]
          },
          "metadata": {},
          "execution_count": 45
        }
      ]
    },
    {
      "cell_type": "code",
      "source": [
        "pp.matshow(A)"
      ],
      "metadata": {
        "colab": {
          "base_uri": "https://localhost:8080/",
          "height": 292
        },
        "id": "CjDj-L7RJOUt",
        "outputId": "feead05f-bef1-4d6f-ec37-9dcf87b40a07"
      },
      "execution_count": 46,
      "outputs": [
        {
          "output_type": "execute_result",
          "data": {
            "text/plain": [
              "<matplotlib.image.AxesImage at 0x7f423ab722e0>"
            ]
          },
          "metadata": {},
          "execution_count": 46
        },
        {
          "output_type": "display_data",
          "data": {
            "text/plain": [
              "<Figure size 288x288 with 1 Axes>"
            ],
            "image/png": "[encoded data removed]"
          },
          "metadata": {
            "needs_background": "light"
          }
        }
      ]
    },
    {
      "cell_type": "code",
      "source": [],
      "metadata": {
        "id": "LiLo-VoHJS-F"
      },
      "execution_count": null,
      "outputs": []
    }
  ]
}